{
 "cells": [
  {
   "cell_type": "markdown",
   "source": [
    "## Veriyi Anlamak"
   ],
   "metadata": {
    "collapsed": false
   },
   "id": "d133eb360eab4b9d"
  },
  {
   "cell_type": "code",
   "outputs": [],
   "source": [
    "# Gerekli Olan Kütüphaneler\n",
    "\n",
    "import numpy as np\n",
    "import pandas as pd\n",
    "import matplotlib.pyplot as plt\n",
    "import tensorflow as tf\n",
    "import datetime as dt\n",
    "\n",
    "from sklearn.preprocessing import MinMaxScaler\n",
    "from sklearn.metrics import mean_squared_error\n",
    "\n",
    "from tensorflow.keras.utils import to_categorical\n",
    "from tensorflow.keras.preprocessing.image import ImageDataGenerator\n",
    "from tensorflow.keras.models import Sequential\n",
    "from tensorflow.keras.layers import Dense, Dropout,LSTM\n",
    "from tensorflow.keras.callbacks import ModelCheckpoint, EarlyStopping\n",
    "\n",
    "import warnings\n",
    "warnings.filterwarnings(\"ignore\")\n",
    "\n",
    "import os\n",
    "os.environ[\"TF_CPP_MIN_LOG_LEVEL\"] = \"3\"\n",
    "tf.compat.v1.logging.set_verbosity(tf.compat.v1.logging.ERROR)"
   ],
   "metadata": {
    "collapsed": false,
    "ExecuteTime": {
     "end_time": "2024-03-17T17:26:46.890282Z",
     "start_time": "2024-03-17T17:26:46.874417Z"
    }
   },
   "id": "4e4942a0b2169296",
   "execution_count": 253
  },
  {
   "cell_type": "code",
   "outputs": [],
   "source": [
    "df = pd.read_csv(\"TSLA.csv\")"
   ],
   "metadata": {
    "collapsed": false,
    "ExecuteTime": {
     "end_time": "2024-03-17T17:26:46.984802Z",
     "start_time": "2024-03-17T17:26:46.964887Z"
    }
   },
   "id": "cbd070a100e20c55",
   "execution_count": 254
  },
  {
   "cell_type": "code",
   "outputs": [
    {
     "data": {
      "text/plain": "         Date       Open   High        Low      Close  Adj Close    Volume\n0  2010-06-29  19.000000  25.00  17.540001  23.889999  23.889999  18766300\n1  2010-06-30  25.790001  30.42  23.299999  23.830000  23.830000  17187100\n2  2010-07-01  25.000000  25.92  20.270000  21.959999  21.959999   8218800\n3  2010-07-02  23.000000  23.10  18.709999  19.200001  19.200001   5139800\n4  2010-07-06  20.000000  20.00  15.830000  16.110001  16.110001   6866900",
      "text/html": "<div>\n<style scoped>\n    .dataframe tbody tr th:only-of-type {\n        vertical-align: middle;\n    }\n\n    .dataframe tbody tr th {\n        vertical-align: top;\n    }\n\n    .dataframe thead th {\n        text-align: right;\n    }\n</style>\n<table border=\"1\" class=\"dataframe\">\n  <thead>\n    <tr style=\"text-align: right;\">\n      <th></th>\n      <th>Date</th>\n      <th>Open</th>\n      <th>High</th>\n      <th>Low</th>\n      <th>Close</th>\n      <th>Adj Close</th>\n      <th>Volume</th>\n    </tr>\n  </thead>\n  <tbody>\n    <tr>\n      <th>0</th>\n      <td>2010-06-29</td>\n      <td>19.000000</td>\n      <td>25.00</td>\n      <td>17.540001</td>\n      <td>23.889999</td>\n      <td>23.889999</td>\n      <td>18766300</td>\n    </tr>\n    <tr>\n      <th>1</th>\n      <td>2010-06-30</td>\n      <td>25.790001</td>\n      <td>30.42</td>\n      <td>23.299999</td>\n      <td>23.830000</td>\n      <td>23.830000</td>\n      <td>17187100</td>\n    </tr>\n    <tr>\n      <th>2</th>\n      <td>2010-07-01</td>\n      <td>25.000000</td>\n      <td>25.92</td>\n      <td>20.270000</td>\n      <td>21.959999</td>\n      <td>21.959999</td>\n      <td>8218800</td>\n    </tr>\n    <tr>\n      <th>3</th>\n      <td>2010-07-02</td>\n      <td>23.000000</td>\n      <td>23.10</td>\n      <td>18.709999</td>\n      <td>19.200001</td>\n      <td>19.200001</td>\n      <td>5139800</td>\n    </tr>\n    <tr>\n      <th>4</th>\n      <td>2010-07-06</td>\n      <td>20.000000</td>\n      <td>20.00</td>\n      <td>15.830000</td>\n      <td>16.110001</td>\n      <td>16.110001</td>\n      <td>6866900</td>\n    </tr>\n  </tbody>\n</table>\n</div>"
     },
     "execution_count": 255,
     "metadata": {},
     "output_type": "execute_result"
    }
   ],
   "source": [
    "df.head()"
   ],
   "metadata": {
    "collapsed": false,
    "ExecuteTime": {
     "end_time": "2024-03-17T17:26:47.078457Z",
     "start_time": "2024-03-17T17:26:47.057800Z"
    }
   },
   "id": "7733ec60e149a2a3",
   "execution_count": 255
  },
  {
   "cell_type": "code",
   "outputs": [],
   "source": [
    "df[\"Date\"]=pd.to_datetime(df[\"Date\"])"
   ],
   "metadata": {
    "collapsed": false,
    "ExecuteTime": {
     "end_time": "2024-03-17T17:26:47.125048Z",
     "start_time": "2024-03-17T17:26:47.103768Z"
    }
   },
   "id": "45e04c2ecac6d4d0",
   "execution_count": 256
  },
  {
   "cell_type": "code",
   "outputs": [
    {
     "data": {
      "text/plain": "        Date       Open   High        Low      Close  Adj Close    Volume\n0 2010-06-29  19.000000  25.00  17.540001  23.889999  23.889999  18766300\n1 2010-06-30  25.790001  30.42  23.299999  23.830000  23.830000  17187100\n2 2010-07-01  25.000000  25.92  20.270000  21.959999  21.959999   8218800\n3 2010-07-02  23.000000  23.10  18.709999  19.200001  19.200001   5139800\n4 2010-07-06  20.000000  20.00  15.830000  16.110001  16.110001   6866900",
      "text/html": "<div>\n<style scoped>\n    .dataframe tbody tr th:only-of-type {\n        vertical-align: middle;\n    }\n\n    .dataframe tbody tr th {\n        vertical-align: top;\n    }\n\n    .dataframe thead th {\n        text-align: right;\n    }\n</style>\n<table border=\"1\" class=\"dataframe\">\n  <thead>\n    <tr style=\"text-align: right;\">\n      <th></th>\n      <th>Date</th>\n      <th>Open</th>\n      <th>High</th>\n      <th>Low</th>\n      <th>Close</th>\n      <th>Adj Close</th>\n      <th>Volume</th>\n    </tr>\n  </thead>\n  <tbody>\n    <tr>\n      <th>0</th>\n      <td>2010-06-29</td>\n      <td>19.000000</td>\n      <td>25.00</td>\n      <td>17.540001</td>\n      <td>23.889999</td>\n      <td>23.889999</td>\n      <td>18766300</td>\n    </tr>\n    <tr>\n      <th>1</th>\n      <td>2010-06-30</td>\n      <td>25.790001</td>\n      <td>30.42</td>\n      <td>23.299999</td>\n      <td>23.830000</td>\n      <td>23.830000</td>\n      <td>17187100</td>\n    </tr>\n    <tr>\n      <th>2</th>\n      <td>2010-07-01</td>\n      <td>25.000000</td>\n      <td>25.92</td>\n      <td>20.270000</td>\n      <td>21.959999</td>\n      <td>21.959999</td>\n      <td>8218800</td>\n    </tr>\n    <tr>\n      <th>3</th>\n      <td>2010-07-02</td>\n      <td>23.000000</td>\n      <td>23.10</td>\n      <td>18.709999</td>\n      <td>19.200001</td>\n      <td>19.200001</td>\n      <td>5139800</td>\n    </tr>\n    <tr>\n      <th>4</th>\n      <td>2010-07-06</td>\n      <td>20.000000</td>\n      <td>20.00</td>\n      <td>15.830000</td>\n      <td>16.110001</td>\n      <td>16.110001</td>\n      <td>6866900</td>\n    </tr>\n  </tbody>\n</table>\n</div>"
     },
     "execution_count": 257,
     "metadata": {},
     "output_type": "execute_result"
    }
   ],
   "source": [
    "df.head()"
   ],
   "metadata": {
    "collapsed": false,
    "ExecuteTime": {
     "end_time": "2024-03-17T17:26:47.155353Z",
     "start_time": "2024-03-17T17:26:47.140170Z"
    }
   },
   "id": "ca0026b05ebe906f",
   "execution_count": 257
  },
  {
   "cell_type": "code",
   "outputs": [],
   "source": [
    "tesla_df = df[[\"Date\",\"Close\"]]"
   ],
   "metadata": {
    "collapsed": false,
    "ExecuteTime": {
     "end_time": "2024-03-17T17:26:47.248262Z",
     "start_time": "2024-03-17T17:26:47.231743Z"
    }
   },
   "id": "9d99a4bf706500f0",
   "execution_count": 258
  },
  {
   "cell_type": "code",
   "outputs": [
    {
     "data": {
      "text/plain": "           Date       Close\n0    2010-06-29   23.889999\n1    2010-06-30   23.830000\n2    2010-07-01   21.959999\n3    2010-07-02   19.200001\n4    2010-07-06   16.110001\n...         ...         ...\n2411 2020-01-28  566.900024\n2412 2020-01-29  580.989990\n2413 2020-01-30  640.809998\n2414 2020-01-31  650.570007\n2415 2020-02-03  780.000000\n\n[2416 rows x 2 columns]",
      "text/html": "<div>\n<style scoped>\n    .dataframe tbody tr th:only-of-type {\n        vertical-align: middle;\n    }\n\n    .dataframe tbody tr th {\n        vertical-align: top;\n    }\n\n    .dataframe thead th {\n        text-align: right;\n    }\n</style>\n<table border=\"1\" class=\"dataframe\">\n  <thead>\n    <tr style=\"text-align: right;\">\n      <th></th>\n      <th>Date</th>\n      <th>Close</th>\n    </tr>\n  </thead>\n  <tbody>\n    <tr>\n      <th>0</th>\n      <td>2010-06-29</td>\n      <td>23.889999</td>\n    </tr>\n    <tr>\n      <th>1</th>\n      <td>2010-06-30</td>\n      <td>23.830000</td>\n    </tr>\n    <tr>\n      <th>2</th>\n      <td>2010-07-01</td>\n      <td>21.959999</td>\n    </tr>\n    <tr>\n      <th>3</th>\n      <td>2010-07-02</td>\n      <td>19.200001</td>\n    </tr>\n    <tr>\n      <th>4</th>\n      <td>2010-07-06</td>\n      <td>16.110001</td>\n    </tr>\n    <tr>\n      <th>...</th>\n      <td>...</td>\n      <td>...</td>\n    </tr>\n    <tr>\n      <th>2411</th>\n      <td>2020-01-28</td>\n      <td>566.900024</td>\n    </tr>\n    <tr>\n      <th>2412</th>\n      <td>2020-01-29</td>\n      <td>580.989990</td>\n    </tr>\n    <tr>\n      <th>2413</th>\n      <td>2020-01-30</td>\n      <td>640.809998</td>\n    </tr>\n    <tr>\n      <th>2414</th>\n      <td>2020-01-31</td>\n      <td>650.570007</td>\n    </tr>\n    <tr>\n      <th>2415</th>\n      <td>2020-02-03</td>\n      <td>780.000000</td>\n    </tr>\n  </tbody>\n</table>\n<p>2416 rows × 2 columns</p>\n</div>"
     },
     "execution_count": 259,
     "metadata": {},
     "output_type": "execute_result"
    }
   ],
   "source": [
    "tesla_df"
   ],
   "metadata": {
    "collapsed": false,
    "ExecuteTime": {
     "end_time": "2024-03-17T17:26:47.373539Z",
     "start_time": "2024-03-17T17:26:47.347621Z"
    }
   },
   "id": "a4665fab508bcd9c",
   "execution_count": 259
  },
  {
   "cell_type": "code",
   "outputs": [],
   "source": [
    "tesla_df.index =tesla_df[\"Date\"]"
   ],
   "metadata": {
    "collapsed": false,
    "ExecuteTime": {
     "end_time": "2024-03-17T17:26:47.434026Z",
     "start_time": "2024-03-17T17:26:47.426999Z"
    }
   },
   "id": "f7258af1f7c29e16",
   "execution_count": 260
  },
  {
   "cell_type": "code",
   "outputs": [
    {
     "data": {
      "text/plain": "                 Date       Close\nDate                             \n2010-06-29 2010-06-29   23.889999\n2010-06-30 2010-06-30   23.830000\n2010-07-01 2010-07-01   21.959999\n2010-07-02 2010-07-02   19.200001\n2010-07-06 2010-07-06   16.110001\n...               ...         ...\n2020-01-28 2020-01-28  566.900024\n2020-01-29 2020-01-29  580.989990\n2020-01-30 2020-01-30  640.809998\n2020-01-31 2020-01-31  650.570007\n2020-02-03 2020-02-03  780.000000\n\n[2416 rows x 2 columns]",
      "text/html": "<div>\n<style scoped>\n    .dataframe tbody tr th:only-of-type {\n        vertical-align: middle;\n    }\n\n    .dataframe tbody tr th {\n        vertical-align: top;\n    }\n\n    .dataframe thead th {\n        text-align: right;\n    }\n</style>\n<table border=\"1\" class=\"dataframe\">\n  <thead>\n    <tr style=\"text-align: right;\">\n      <th></th>\n      <th>Date</th>\n      <th>Close</th>\n    </tr>\n    <tr>\n      <th>Date</th>\n      <th></th>\n      <th></th>\n    </tr>\n  </thead>\n  <tbody>\n    <tr>\n      <th>2010-06-29</th>\n      <td>2010-06-29</td>\n      <td>23.889999</td>\n    </tr>\n    <tr>\n      <th>2010-06-30</th>\n      <td>2010-06-30</td>\n      <td>23.830000</td>\n    </tr>\n    <tr>\n      <th>2010-07-01</th>\n      <td>2010-07-01</td>\n      <td>21.959999</td>\n    </tr>\n    <tr>\n      <th>2010-07-02</th>\n      <td>2010-07-02</td>\n      <td>19.200001</td>\n    </tr>\n    <tr>\n      <th>2010-07-06</th>\n      <td>2010-07-06</td>\n      <td>16.110001</td>\n    </tr>\n    <tr>\n      <th>...</th>\n      <td>...</td>\n      <td>...</td>\n    </tr>\n    <tr>\n      <th>2020-01-28</th>\n      <td>2020-01-28</td>\n      <td>566.900024</td>\n    </tr>\n    <tr>\n      <th>2020-01-29</th>\n      <td>2020-01-29</td>\n      <td>580.989990</td>\n    </tr>\n    <tr>\n      <th>2020-01-30</th>\n      <td>2020-01-30</td>\n      <td>640.809998</td>\n    </tr>\n    <tr>\n      <th>2020-01-31</th>\n      <td>2020-01-31</td>\n      <td>650.570007</td>\n    </tr>\n    <tr>\n      <th>2020-02-03</th>\n      <td>2020-02-03</td>\n      <td>780.000000</td>\n    </tr>\n  </tbody>\n</table>\n<p>2416 rows × 2 columns</p>\n</div>"
     },
     "execution_count": 261,
     "metadata": {},
     "output_type": "execute_result"
    }
   ],
   "source": [
    "tesla_df"
   ],
   "metadata": {
    "collapsed": false,
    "ExecuteTime": {
     "end_time": "2024-03-17T17:26:47.496625Z",
     "start_time": "2024-03-17T17:26:47.486003Z"
    }
   },
   "id": "66b7b2dbed14e932",
   "execution_count": 261
  },
  {
   "cell_type": "code",
   "outputs": [],
   "source": [
    "tesla_df.drop(\"Date\",axis=1,inplace=True)"
   ],
   "metadata": {
    "collapsed": false,
    "ExecuteTime": {
     "end_time": "2024-03-17T17:26:47.558046Z",
     "start_time": "2024-03-17T17:26:47.548014Z"
    }
   },
   "id": "5ddffb159b911945",
   "execution_count": 262
  },
  {
   "cell_type": "code",
   "outputs": [
    {
     "data": {
      "text/plain": "                 Close\nDate                  \n2010-06-29   23.889999\n2010-06-30   23.830000\n2010-07-01   21.959999\n2010-07-02   19.200001\n2010-07-06   16.110001\n...                ...\n2020-01-28  566.900024\n2020-01-29  580.989990\n2020-01-30  640.809998\n2020-01-31  650.570007\n2020-02-03  780.000000\n\n[2416 rows x 1 columns]",
      "text/html": "<div>\n<style scoped>\n    .dataframe tbody tr th:only-of-type {\n        vertical-align: middle;\n    }\n\n    .dataframe tbody tr th {\n        vertical-align: top;\n    }\n\n    .dataframe thead th {\n        text-align: right;\n    }\n</style>\n<table border=\"1\" class=\"dataframe\">\n  <thead>\n    <tr style=\"text-align: right;\">\n      <th></th>\n      <th>Close</th>\n    </tr>\n    <tr>\n      <th>Date</th>\n      <th></th>\n    </tr>\n  </thead>\n  <tbody>\n    <tr>\n      <th>2010-06-29</th>\n      <td>23.889999</td>\n    </tr>\n    <tr>\n      <th>2010-06-30</th>\n      <td>23.830000</td>\n    </tr>\n    <tr>\n      <th>2010-07-01</th>\n      <td>21.959999</td>\n    </tr>\n    <tr>\n      <th>2010-07-02</th>\n      <td>19.200001</td>\n    </tr>\n    <tr>\n      <th>2010-07-06</th>\n      <td>16.110001</td>\n    </tr>\n    <tr>\n      <th>...</th>\n      <td>...</td>\n    </tr>\n    <tr>\n      <th>2020-01-28</th>\n      <td>566.900024</td>\n    </tr>\n    <tr>\n      <th>2020-01-29</th>\n      <td>580.989990</td>\n    </tr>\n    <tr>\n      <th>2020-01-30</th>\n      <td>640.809998</td>\n    </tr>\n    <tr>\n      <th>2020-01-31</th>\n      <td>650.570007</td>\n    </tr>\n    <tr>\n      <th>2020-02-03</th>\n      <td>780.000000</td>\n    </tr>\n  </tbody>\n</table>\n<p>2416 rows × 1 columns</p>\n</div>"
     },
     "execution_count": 263,
     "metadata": {},
     "output_type": "execute_result"
    }
   ],
   "source": [
    "tesla_df"
   ],
   "metadata": {
    "collapsed": false,
    "ExecuteTime": {
     "end_time": "2024-03-17T17:26:47.588567Z",
     "start_time": "2024-03-17T17:26:47.570363Z"
    }
   },
   "id": "16e91d8f79f88693",
   "execution_count": 263
  },
  {
   "cell_type": "code",
   "outputs": [],
   "source": [
    "result_df = tesla_df.copy()"
   ],
   "metadata": {
    "collapsed": false,
    "ExecuteTime": {
     "end_time": "2024-03-17T17:26:47.665988Z",
     "start_time": "2024-03-17T17:26:47.654062Z"
    }
   },
   "id": "4a0b792668649ed1",
   "execution_count": 264
  },
  {
   "cell_type": "code",
   "outputs": [
    {
     "data": {
      "text/plain": "<Figure size 1200x600 with 1 Axes>",
      "image/png": "[encoded data removed]"
     },
     "metadata": {},
     "output_type": "display_data"
    }
   ],
   "source": [
    "plt.figure(figsize=(12,6))\n",
    "plt.plot(result_df[\"Close\"],color=\"blue\")\n",
    "plt.ylabel(\"Stock Price\")\n",
    "plt.xlabel(\"Date\")\n",
    "plt.title(\"Tesla Stock Price\")\n",
    "plt.show()"
   ],
   "metadata": {
    "collapsed": false,
    "ExecuteTime": {
     "end_time": "2024-03-17T17:26:47.974684Z",
     "start_time": "2024-03-17T17:26:47.720202Z"
    }
   },
   "id": "1b788ae8f576ef3a",
   "execution_count": 265
  },
  {
   "cell_type": "code",
   "outputs": [],
   "source": [
    "tesla_df = tesla_df.values"
   ],
   "metadata": {
    "collapsed": false,
    "ExecuteTime": {
     "end_time": "2024-03-17T17:26:47.990433Z",
     "start_time": "2024-03-17T17:26:47.976679Z"
    }
   },
   "id": "3511595e9911934c",
   "execution_count": 266
  },
  {
   "cell_type": "code",
   "outputs": [
    {
     "data": {
      "text/plain": "array([[23.889999],\n       [23.83    ],\n       [21.959999],\n       [19.200001],\n       [16.110001]])"
     },
     "execution_count": 267,
     "metadata": {},
     "output_type": "execute_result"
    }
   ],
   "source": [
    "tesla_df[0:5]"
   ],
   "metadata": {
    "collapsed": false,
    "ExecuteTime": {
     "end_time": "2024-03-17T17:26:48.005746Z",
     "start_time": "2024-03-17T17:26:47.993352Z"
    }
   },
   "id": "3f17c8d21af53f96",
   "execution_count": 267
  },
  {
   "cell_type": "code",
   "outputs": [],
   "source": [
    "tesla_df = tesla_df.astype(\"float32\")"
   ],
   "metadata": {
    "collapsed": false,
    "ExecuteTime": {
     "end_time": "2024-03-17T17:26:48.036225Z",
     "start_time": "2024-03-17T17:26:48.019797Z"
    }
   },
   "id": "4459c290983f07d0",
   "execution_count": 268
  },
  {
   "cell_type": "code",
   "outputs": [],
   "source": [
    "# Train-Test Ayrımının yapılması"
   ],
   "metadata": {
    "collapsed": false,
    "ExecuteTime": {
     "end_time": "2024-03-17T17:26:48.051801Z",
     "start_time": "2024-03-17T17:26:48.039220Z"
    }
   },
   "id": "9e48fced72b8361",
   "execution_count": 269
  },
  {
   "cell_type": "code",
   "outputs": [],
   "source": [
    "def split_data(dataframe, test_size):\n",
    "    pos = int(round(len(dataframe)*test_size)*(1-test_size))\n",
    "    train, test = dataframe[:pos], dataframe[pos:]\n",
    "    return train, test, pos"
   ],
   "metadata": {
    "collapsed": false,
    "ExecuteTime": {
     "end_time": "2024-03-17T17:26:48.083555Z",
     "start_time": "2024-03-17T17:26:48.070647Z"
    }
   },
   "id": "843aa2c690288c26",
   "execution_count": 270
  },
  {
   "cell_type": "code",
   "outputs": [],
   "source": [
    "train, test, pos = split_data(tesla_df,0.20)"
   ],
   "metadata": {
    "collapsed": false,
    "ExecuteTime": {
     "end_time": "2024-03-17T17:26:48.177481Z",
     "start_time": "2024-03-17T17:26:48.171908Z"
    }
   },
   "id": "ec2c9bddbaccf299",
   "execution_count": 271
  },
  {
   "cell_type": "code",
   "outputs": [
    {
     "name": "stdout",
     "output_type": "stream",
     "text": [
      "(386, 1) (2030, 1)\n"
     ]
    }
   ],
   "source": [
    "print(train.shape, test.shape)"
   ],
   "metadata": {
    "collapsed": false,
    "ExecuteTime": {
     "end_time": "2024-03-17T17:26:48.207966Z",
     "start_time": "2024-03-17T17:26:48.193831Z"
    }
   },
   "id": "b4f3a20f9154e343",
   "execution_count": 272
  },
  {
   "cell_type": "code",
   "outputs": [],
   "source": [
    "scaler_train = MinMaxScaler(feature_range=(0,1))"
   ],
   "metadata": {
    "collapsed": false,
    "ExecuteTime": {
     "end_time": "2024-03-17T17:26:48.223953Z",
     "start_time": "2024-03-17T17:26:48.214747Z"
    }
   },
   "id": "dc7ef5fdbff4a0d5",
   "execution_count": 273
  },
  {
   "cell_type": "code",
   "outputs": [],
   "source": [
    "train = scaler_train.fit_transform(train)"
   ],
   "metadata": {
    "collapsed": false,
    "ExecuteTime": {
     "end_time": "2024-03-17T17:26:48.284135Z",
     "start_time": "2024-03-17T17:26:48.270178Z"
    }
   },
   "id": "4e2957a64bdc0077",
   "execution_count": 274
  },
  {
   "cell_type": "code",
   "outputs": [],
   "source": [
    "scaler_test = MinMaxScaler(feature_range=(0,1))"
   ],
   "metadata": {
    "collapsed": false,
    "ExecuteTime": {
     "end_time": "2024-03-17T17:26:48.315622Z",
     "start_time": "2024-03-17T17:26:48.297738Z"
    }
   },
   "id": "c7a243ff527b53bb",
   "execution_count": 275
  },
  {
   "cell_type": "code",
   "outputs": [],
   "source": [
    "test = scaler_test.fit_transform(test)"
   ],
   "metadata": {
    "collapsed": false,
    "ExecuteTime": {
     "end_time": "2024-03-17T17:26:48.375654Z",
     "start_time": "2024-03-17T17:26:48.356944Z"
    }
   },
   "id": "8a85597e44ccb9b2",
   "execution_count": 276
  },
  {
   "cell_type": "code",
   "outputs": [],
   "source": [
    "def create_features(data, lockback):\n",
    "    x,y = [],[]\n",
    "    for i in range(lockback,len(data)):\n",
    "        x.append(data[i-lookback:i,0])\n",
    "        y.append(data[i,0])\n",
    "    return np.array(x),np.array(y)"
   ],
   "metadata": {
    "collapsed": false,
    "ExecuteTime": {
     "end_time": "2024-03-17T17:26:48.407002Z",
     "start_time": "2024-03-17T17:26:48.390186Z"
    }
   },
   "id": "2643158d7ced5ff2",
   "execution_count": 277
  },
  {
   "cell_type": "code",
   "outputs": [],
   "source": [
    "lookback = 20"
   ],
   "metadata": {
    "collapsed": false,
    "ExecuteTime": {
     "end_time": "2024-03-17T17:26:48.422134Z",
     "start_time": "2024-03-17T17:26:48.409272Z"
    }
   },
   "id": "55a3d828e0d87726",
   "execution_count": 278
  },
  {
   "cell_type": "code",
   "outputs": [],
   "source": [
    "# Traib Veri Seti \n",
    "x_train,y_train = create_features(train,lookback)\n",
    "x_test, y_test = create_features(test,lookback)"
   ],
   "metadata": {
    "collapsed": false,
    "ExecuteTime": {
     "end_time": "2024-03-17T17:26:48.452922Z",
     "start_time": "2024-03-17T17:26:48.433483Z"
    }
   },
   "id": "ab66d996b9b8b721",
   "execution_count": 279
  },
  {
   "cell_type": "code",
   "outputs": [
    {
     "data": {
      "text/plain": "array([[0.41128618, 0.40823585, 0.31316715, ..., 0.27910525, 0.26182002,\n        0.24148446],\n       [0.40823585, 0.31316715, 0.1728521 , ..., 0.26182002, 0.24148446,\n        0.25012702],\n       [0.31316715, 0.1728521 , 0.01576006, ..., 0.24148446, 0.25012702,\n        0.23131675],\n       ...,\n       [0.9466191 , 0.96949655, 0.9349261 , ..., 0.6573462 , 0.6487035 ,\n        0.6243009 ],\n       [0.96949655, 0.9349261 , 0.767158  , ..., 0.6487035 , 0.6243009 ,\n        0.6054905 ],\n       [0.9349261 , 0.767158  , 0.7747839 , ..., 0.6243009 , 0.6054905 ,\n        0.57549566]], dtype=float32)"
     },
     "execution_count": 280,
     "metadata": {},
     "output_type": "execute_result"
    }
   ],
   "source": [
    "x_train"
   ],
   "metadata": {
    "collapsed": false,
    "ExecuteTime": {
     "end_time": "2024-03-17T17:26:48.468484Z",
     "start_time": "2024-03-17T17:26:48.455434Z"
    }
   },
   "id": "c30edfdd6bcfd024",
   "execution_count": 280
  },
  {
   "cell_type": "code",
   "outputs": [
    {
     "name": "stdout",
     "output_type": "stream",
     "text": [
      "(366, 20) (366,) (2010, 20) (2010,)\n"
     ]
    }
   ],
   "source": [
    "print(x_train.shape,y_train.shape,x_test.shape,y_test.shape)"
   ],
   "metadata": {
    "collapsed": false,
    "ExecuteTime": {
     "end_time": "2024-03-17T17:26:48.484077Z",
     "start_time": "2024-03-17T17:26:48.470480Z"
    }
   },
   "id": "276d57504102c886",
   "execution_count": 281
  },
  {
   "cell_type": "code",
   "outputs": [],
   "source": [
    "x_train = np.reshape(x_train, (x_train.shape[0],1,x_train.shape[1]))\n",
    "x_test = np.reshape(x_test, (x_test.shape[0],1,x_test.shape[1]))\n",
    "y_train = y_train.reshape(-1,1)\n",
    "y_test = y_test.reshape(-1,1)"
   ],
   "metadata": {
    "collapsed": false,
    "ExecuteTime": {
     "end_time": "2024-03-17T17:26:48.514132Z",
     "start_time": "2024-03-17T17:26:48.499110Z"
    }
   },
   "id": "4825e47632476c60",
   "execution_count": 282
  },
  {
   "cell_type": "code",
   "outputs": [
    {
     "name": "stdout",
     "output_type": "stream",
     "text": [
      "(366, 1, 20) (366, 1) (2010, 1, 20) (2010, 1)\n"
     ]
    }
   ],
   "source": [
    "print(x_train.shape, y_train.shape, x_test.shape, y_test.shape)"
   ],
   "metadata": {
    "collapsed": false,
    "ExecuteTime": {
     "end_time": "2024-03-17T17:26:48.528765Z",
     "start_time": "2024-03-17T17:26:48.518135Z"
    }
   },
   "id": "d95508db2f61fe11",
   "execution_count": 283
  },
  {
   "cell_type": "markdown",
   "source": [
    "## Modelleme"
   ],
   "metadata": {
    "collapsed": false
   },
   "id": "83680a3f5a9d4bba"
  },
  {
   "cell_type": "code",
   "outputs": [],
   "source": [
    "model = Sequential()"
   ],
   "metadata": {
    "collapsed": false,
    "ExecuteTime": {
     "end_time": "2024-03-17T17:26:48.559550Z",
     "start_time": "2024-03-17T17:26:48.545428Z"
    }
   },
   "id": "369eda2e7249f488",
   "execution_count": 284
  },
  {
   "cell_type": "code",
   "outputs": [],
   "source": [
    "model.add(LSTM(units=50, activation=\"relu\", input_shape=(x_train.shape[1],lookback)))"
   ],
   "metadata": {
    "collapsed": false,
    "ExecuteTime": {
     "end_time": "2024-03-17T17:26:48.697586Z",
     "start_time": "2024-03-17T17:26:48.582856Z"
    }
   },
   "id": "1c67f3f8a5ccc462",
   "execution_count": 285
  },
  {
   "cell_type": "code",
   "outputs": [],
   "source": [
    "model.add(Dropout(0.2))\n",
    "model.add(Dense(1))"
   ],
   "metadata": {
    "collapsed": false,
    "ExecuteTime": {
     "end_time": "2024-03-17T17:26:48.727853Z",
     "start_time": "2024-03-17T17:26:48.700587Z"
    }
   },
   "id": "9091a6d92f56ef60",
   "execution_count": 286
  },
  {
   "cell_type": "code",
   "outputs": [
    {
     "name": "stdout",
     "output_type": "stream",
     "text": [
      "Model: \"sequential_8\"\n",
      "_________________________________________________________________\n",
      " Layer (type)                Output Shape              Param #   \n",
      "=================================================================\n",
      " lstm_18 (LSTM)              (None, 50)                14200     \n",
      "                                                                 \n",
      " dropout_7 (Dropout)         (None, 50)                0         \n",
      "                                                                 \n",
      " dense_8 (Dense)             (None, 1)                 51        \n",
      "                                                                 \n",
      "=================================================================\n",
      "Total params: 14251 (55.67 KB)\n",
      "Trainable params: 14251 (55.67 KB)\n",
      "Non-trainable params: 0 (0.00 Byte)\n",
      "_________________________________________________________________\n"
     ]
    }
   ],
   "source": [
    "model.summary()"
   ],
   "metadata": {
    "collapsed": false,
    "ExecuteTime": {
     "end_time": "2024-03-17T17:26:48.743831Z",
     "start_time": "2024-03-17T17:26:48.729853Z"
    }
   },
   "id": "df0619014c667162",
   "execution_count": 287
  },
  {
   "cell_type": "code",
   "outputs": [],
   "source": [
    "# Optimziyon ve Değerlendirme Metriklerinin Ayarlanması"
   ],
   "metadata": {
    "collapsed": false,
    "ExecuteTime": {
     "end_time": "2024-03-17T17:26:48.758861Z",
     "start_time": "2024-03-17T17:26:48.744834Z"
    }
   },
   "id": "caa568937fdc761",
   "execution_count": 288
  },
  {
   "cell_type": "code",
   "outputs": [],
   "source": [
    "model.compile(loss = \"mean_squared_error\", optimizer = \"adam\")"
   ],
   "metadata": {
    "collapsed": false,
    "ExecuteTime": {
     "end_time": "2024-03-17T17:26:48.774111Z",
     "start_time": "2024-03-17T17:26:48.760861Z"
    }
   },
   "id": "ce61d4bc903e886b",
   "execution_count": 289
  },
  {
   "cell_type": "code",
   "outputs": [],
   "source": [
    "callbacks = [EarlyStopping(monitor=\"val_loss\",patience=3,verbose=1,mode=\"min\"),ModelCheckpoint(filepath=\"mymodel.h5\",monitor=\"val_loss\",mode=\"min\",save_best_only=True, save_weights_only=False, verbose=1)]"
   ],
   "metadata": {
    "collapsed": false,
    "ExecuteTime": {
     "end_time": "2024-03-17T17:26:48.790122Z",
     "start_time": "2024-03-17T17:26:48.778112Z"
    }
   },
   "id": "2ac428f780c25588",
   "execution_count": 290
  },
  {
   "cell_type": "code",
   "outputs": [
    {
     "name": "stdout",
     "output_type": "stream",
     "text": [
      "Epoch 1/100\n",
      " 1/19 [>.............................] - ETA: 27s - loss: 0.0401\n",
      "Epoch 1: val_loss improved from inf to 0.01726, saving model to mymodel.h5\n",
      "19/19 [==============================] - 2s 19ms/step - loss: 0.1481 - val_loss: 0.0173\n",
      "Epoch 2/100\n",
      " 1/19 [>.............................] - ETA: 0s - loss: 0.0084\n",
      "Epoch 2: val_loss improved from 0.01726 to 0.00146, saving model to mymodel.h5\n",
      "19/19 [==============================] - 0s 8ms/step - loss: 0.0324 - val_loss: 0.0015\n",
      "Epoch 3/100\n",
      " 1/19 [>.............................] - ETA: 0s - loss: 0.0063\n",
      "Epoch 3: val_loss improved from 0.00146 to 0.00113, saving model to mymodel.h5\n",
      "19/19 [==============================] - 0s 7ms/step - loss: 0.0224 - val_loss: 0.0011\n",
      "Epoch 4/100\n",
      " 1/19 [>.............................] - ETA: 0s - loss: 0.0082\n",
      "Epoch 4: val_loss did not improve from 0.00113\n",
      "19/19 [==============================] - 0s 7ms/step - loss: 0.0207 - val_loss: 0.0017\n",
      "Epoch 5/100\n",
      " 1/19 [>.............................] - ETA: 0s - loss: 0.0043\n",
      "Epoch 5: val_loss did not improve from 0.00113\n",
      "19/19 [==============================] - 0s 6ms/step - loss: 0.0186 - val_loss: 0.0013\n",
      "Epoch 6/100\n",
      " 1/19 [>.............................] - ETA: 0s - loss: 0.0053\n",
      "Epoch 6: val_loss did not improve from 0.00113\n",
      "19/19 [==============================] - 0s 6ms/step - loss: 0.0183 - val_loss: 0.0014\n",
      "Epoch 6: early stopping\n"
     ]
    }
   ],
   "source": [
    "history = model.fit(x=x_train,\n",
    "                    y= y_train,\n",
    "                    epochs=100,\n",
    "                    batch_size=20,\n",
    "                    validation_data=(x_test,y_test),\n",
    "                    callbacks=callbacks,\n",
    "                    shuffle=False)"
   ],
   "metadata": {
    "collapsed": false,
    "ExecuteTime": {
     "end_time": "2024-03-17T17:26:51.465983Z",
     "start_time": "2024-03-17T17:26:48.830056Z"
    }
   },
   "id": "b885635341b2b2a4",
   "execution_count": 291
  },
  {
   "cell_type": "markdown",
   "source": [
    "## Değerlendirme"
   ],
   "metadata": {
    "collapsed": false
   },
   "id": "f8eb5e69e4d31e9c"
  },
  {
   "cell_type": "code",
   "outputs": [
    {
     "name": "stdout",
     "output_type": "stream",
     "text": [
      "101/101 [==============================] - 0s 745us/step - loss: 0.0014\n",
      "\n",
      "Test Loss: 0.1%\n"
     ]
    }
   ],
   "source": [
    "loss = model.evaluate(x_test, y_test, batch_size=20)\n",
    "print(\"\\nTest Loss: %.1f%%\" % (100.0*loss))"
   ],
   "metadata": {
    "collapsed": false,
    "ExecuteTime": {
     "end_time": "2024-03-17T20:22:42.525934Z",
     "start_time": "2024-03-17T20:22:42.238518Z"
    }
   },
   "id": "dd100543572422b",
   "execution_count": 292
  },
  {
   "cell_type": "code",
   "outputs": [
    {
     "name": "stdout",
     "output_type": "stream",
     "text": [
      "12/12 [==============================] - 0s 945us/step\n",
      "63/63 [==============================] - 0s 676us/step\n"
     ]
    }
   ],
   "source": [
    "train_predict = model.predict(x_train)\n",
    "test_predict = model.predict(x_test)"
   ],
   "metadata": {
    "collapsed": false,
    "ExecuteTime": {
     "end_time": "2024-03-17T20:24:17.203135Z",
     "start_time": "2024-03-17T20:24:16.745615Z"
    }
   },
   "id": "7339cdb09755a09c",
   "execution_count": 293
  },
  {
   "cell_type": "code",
   "outputs": [],
   "source": [
    "train_predict = scaler_train.inverse_transform(train_predict)\n",
    "test_predict = scaler_test.inverse_transform(test_predict)"
   ],
   "metadata": {
    "collapsed": false,
    "ExecuteTime": {
     "end_time": "2024-03-17T20:24:34.002429Z",
     "start_time": "2024-03-17T20:24:33.998432Z"
    }
   },
   "id": "20d8dbf764425d3f",
   "execution_count": 294
  },
  {
   "cell_type": "code",
   "outputs": [],
   "source": [
    "y_train = scaler_train.inverse_transform(y_train)\n",
    "y_test = scaler_test.inverse_transform(y_test)"
   ],
   "metadata": {
    "collapsed": false,
    "ExecuteTime": {
     "end_time": "2024-03-17T20:24:43.474682Z",
     "start_time": "2024-03-17T20:24:43.471682Z"
    }
   },
   "id": "2ec8ee139a2cee4e",
   "execution_count": 295
  },
  {
   "cell_type": "code",
   "outputs": [],
   "source": [
    "# Train veri setine ait RMSE değeri\n",
    "train_rmse = np.sqrt(mean_squared_error(y_train,train_predict))"
   ],
   "metadata": {
    "collapsed": false,
    "ExecuteTime": {
     "end_time": "2024-03-17T20:24:53.145287Z",
     "start_time": "2024-03-17T20:24:53.130513Z"
    }
   },
   "id": "fcd6648250d7e6a9",
   "execution_count": 296
  },
  {
   "cell_type": "code",
   "outputs": [],
   "source": [
    "# Test veri setine ait RMSE değeri\n",
    "test_rmse = np.sqrt(mean_squared_error(y_test,test_predict))"
   ],
   "metadata": {
    "collapsed": false,
    "ExecuteTime": {
     "end_time": "2024-03-17T20:25:02.086356Z",
     "start_time": "2024-03-17T20:25:02.081680Z"
    }
   },
   "id": "78896aafc16e4cc8",
   "execution_count": 297
  },
  {
   "cell_type": "code",
   "outputs": [
    {
     "name": "stdout",
     "output_type": "stream",
     "text": [
      "Train RMSE: 2.1872940063476562\n",
      "Test RMSE: 27.853851318359375\n"
     ]
    }
   ],
   "source": [
    "print(f\"Train RMSE: {train_rmse}\")\n",
    "print(f\"Test RMSE: {test_rmse}\")"
   ],
   "metadata": {
    "collapsed": false,
    "ExecuteTime": {
     "end_time": "2024-03-17T20:25:17.126466Z",
     "start_time": "2024-03-17T20:25:17.110558Z"
    }
   },
   "id": "897361cebe4689f8",
   "execution_count": 298
  },
  {
   "cell_type": "code",
   "outputs": [
    {
     "data": {
      "text/plain": "            count                           mean                  min  \\\nDate         2416  2015-04-15 11:09:56.026490112  2010-06-29 00:00:00   \nOpen       2416.0                     186.271147            16.139999   \nHigh       2416.0                     189.578224            16.629999   \nLow        2416.0                     182.916639                14.98   \nClose      2416.0                     186.403651                 15.8   \nAdj Close  2416.0                     186.403651                 15.8   \nVolume     2416.0                 5572721.688742             118500.0   \n\n                           25%                  50%                  75%  \\\nDate       2012-11-19 18:00:00  2015-04-16 12:00:00  2017-09-07 06:00:00   \nOpen                 34.342498           213.035004           266.450012   \nHigh                 34.897501           216.745002           270.927513   \nLow                  33.587501           208.870002           262.102501   \nClose                34.400002           212.960007           266.774994   \nAdj Close            34.400002           212.960007           266.774994   \nVolume               1899275.0            4578400.0            7361150.0   \n\n                           max             std  \nDate       2020-02-03 00:00:00             NaN  \nOpen                673.690002      118.740163  \nHigh                786.140015      120.892329  \nLow                  673.52002      116.857591  \nClose                    780.0       119.13602  \nAdj Close                780.0       119.13602  \nVolume              47065000.0  4987809.151888  ",
      "text/html": "<div>\n<style scoped>\n    .dataframe tbody tr th:only-of-type {\n        vertical-align: middle;\n    }\n\n    .dataframe tbody tr th {\n        vertical-align: top;\n    }\n\n    .dataframe thead th {\n        text-align: right;\n    }\n</style>\n<table border=\"1\" class=\"dataframe\">\n  <thead>\n    <tr style=\"text-align: right;\">\n      <th></th>\n      <th>count</th>\n      <th>mean</th>\n      <th>min</th>\n      <th>25%</th>\n      <th>50%</th>\n      <th>75%</th>\n      <th>max</th>\n      <th>std</th>\n    </tr>\n  </thead>\n  <tbody>\n    <tr>\n      <th>Date</th>\n      <td>2416</td>\n      <td>2015-04-15 11:09:56.026490112</td>\n      <td>2010-06-29 00:00:00</td>\n      <td>2012-11-19 18:00:00</td>\n      <td>2015-04-16 12:00:00</td>\n      <td>2017-09-07 06:00:00</td>\n      <td>2020-02-03 00:00:00</td>\n      <td>NaN</td>\n    </tr>\n    <tr>\n      <th>Open</th>\n      <td>2416.0</td>\n      <td>186.271147</td>\n      <td>16.139999</td>\n      <td>34.342498</td>\n      <td>213.035004</td>\n      <td>266.450012</td>\n      <td>673.690002</td>\n      <td>118.740163</td>\n    </tr>\n    <tr>\n      <th>High</th>\n      <td>2416.0</td>\n      <td>189.578224</td>\n      <td>16.629999</td>\n      <td>34.897501</td>\n      <td>216.745002</td>\n      <td>270.927513</td>\n      <td>786.140015</td>\n      <td>120.892329</td>\n    </tr>\n    <tr>\n      <th>Low</th>\n      <td>2416.0</td>\n      <td>182.916639</td>\n      <td>14.98</td>\n      <td>33.587501</td>\n      <td>208.870002</td>\n      <td>262.102501</td>\n      <td>673.52002</td>\n      <td>116.857591</td>\n    </tr>\n    <tr>\n      <th>Close</th>\n      <td>2416.0</td>\n      <td>186.403651</td>\n      <td>15.8</td>\n      <td>34.400002</td>\n      <td>212.960007</td>\n      <td>266.774994</td>\n      <td>780.0</td>\n      <td>119.13602</td>\n    </tr>\n    <tr>\n      <th>Adj Close</th>\n      <td>2416.0</td>\n      <td>186.403651</td>\n      <td>15.8</td>\n      <td>34.400002</td>\n      <td>212.960007</td>\n      <td>266.774994</td>\n      <td>780.0</td>\n      <td>119.13602</td>\n    </tr>\n    <tr>\n      <th>Volume</th>\n      <td>2416.0</td>\n      <td>5572721.688742</td>\n      <td>118500.0</td>\n      <td>1899275.0</td>\n      <td>4578400.0</td>\n      <td>7361150.0</td>\n      <td>47065000.0</td>\n      <td>4987809.151888</td>\n    </tr>\n  </tbody>\n</table>\n</div>"
     },
     "execution_count": 299,
     "metadata": {},
     "output_type": "execute_result"
    }
   ],
   "source": [
    "df.describe().T"
   ],
   "metadata": {
    "collapsed": false,
    "ExecuteTime": {
     "end_time": "2024-03-17T20:25:40.706170Z",
     "start_time": "2024-03-17T20:25:40.671850Z"
    }
   },
   "id": "d542fd2a71c5d4ef",
   "execution_count": 299
  },
  {
   "cell_type": "code",
   "outputs": [
    {
     "data": {
      "text/plain": "                Close  Predicted\nDate                            \n2010-07-28  20.719999  19.984259\n2010-07-29  20.350000  19.991297\n2010-07-30  19.940001  19.960081\n2010-08-02  20.920000  19.989937\n2010-08-03  21.950001  20.092108",
      "text/html": "<div>\n<style scoped>\n    .dataframe tbody tr th:only-of-type {\n        vertical-align: middle;\n    }\n\n    .dataframe tbody tr th {\n        vertical-align: top;\n    }\n\n    .dataframe thead th {\n        text-align: right;\n    }\n</style>\n<table border=\"1\" class=\"dataframe\">\n  <thead>\n    <tr style=\"text-align: right;\">\n      <th></th>\n      <th>Close</th>\n      <th>Predicted</th>\n    </tr>\n    <tr>\n      <th>Date</th>\n      <th></th>\n      <th></th>\n    </tr>\n  </thead>\n  <tbody>\n    <tr>\n      <th>2010-07-28</th>\n      <td>20.719999</td>\n      <td>19.984259</td>\n    </tr>\n    <tr>\n      <th>2010-07-29</th>\n      <td>20.350000</td>\n      <td>19.991297</td>\n    </tr>\n    <tr>\n      <th>2010-07-30</th>\n      <td>19.940001</td>\n      <td>19.960081</td>\n    </tr>\n    <tr>\n      <th>2010-08-02</th>\n      <td>20.920000</td>\n      <td>19.989937</td>\n    </tr>\n    <tr>\n      <th>2010-08-03</th>\n      <td>21.950001</td>\n      <td>20.092108</td>\n    </tr>\n  </tbody>\n</table>\n</div>"
     },
     "execution_count": 303,
     "metadata": {},
     "output_type": "execute_result"
    }
   ],
   "source": [
    "train_prediction_df = result_df[lookback:pos]\n",
    "train_prediction_df[\"Predicted\"] = train_predict\n",
    "train_prediction_df.head()"
   ],
   "metadata": {
    "collapsed": false,
    "ExecuteTime": {
     "end_time": "2024-03-17T20:27:19.116180Z",
     "start_time": "2024-03-17T20:27:19.099430Z"
    }
   },
   "id": "da7bd3d7a2d50426",
   "execution_count": 303
  },
  {
   "cell_type": "code",
   "outputs": [],
   "source": [],
   "metadata": {
    "collapsed": false
   },
   "id": "759d77a15dc1e64"
  }
 ],
 "metadata": {
  "kernelspec": {
   "display_name": "Python 3",
   "language": "python",
   "name": "python3"
  },
  "language_info": {
   "codemirror_mode": {
    "name": "ipython",
    "version": 2
   },
   "file_extension": ".py",
   "mimetype": "text/x-python",
   "name": "python",
   "nbconvert_exporter": "python",
   "pygments_lexer": "ipython2",
   "version": "2.7.6"
  }
 },
 "nbformat": 4,
 "nbformat_minor": 5
}
