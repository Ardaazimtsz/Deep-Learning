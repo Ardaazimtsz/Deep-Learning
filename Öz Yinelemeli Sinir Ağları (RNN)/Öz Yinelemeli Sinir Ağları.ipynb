{
 "cells": [
  {
   "cell_type": "markdown",
   "source": [
    "## Veriyi Anlamak"
   ],
   "metadata": {
    "collapsed": false
   },
   "id": "54bdf673cb9eb634"
  },
  {
   "cell_type": "code",
   "outputs": [],
   "source": [
    "# Gerekli Olan Kütüphaneler\n",
    "\n",
    "import numpy as np\n",
    "import pandas as pd\n",
    "import matplotlib.pyplot as plt\n",
    "import tensorflow as tf\n",
    "import datetime as dt\n",
    "\n",
    "from sklearn.preprocessing import MinMaxScaler\n",
    "from sklearn.metrics import mean_squared_error\n",
    "\n",
    "from tensorflow.keras.utils import to_categorical\n",
    "from tensorflow.keras.preprocessing.image import ImageDataGenerator\n",
    "from tensorflow.keras.models import Sequential\n",
    "from tensorflow.keras.layers import Dense, Dropout,SimpleRNN\n",
    "from tensorflow.keras.callbacks import ModelCheckpoint, EarlyStopping\n",
    "\n",
    "import warnings\n",
    "warnings.filterwarnings(\"ignore\")\n",
    "\n",
    "import os\n",
    "os.environ[\"TF_CPP_MIN_LOG_LEVEL\"] = \"3\"\n",
    "tf.compat.v1.logging.set_verbosity(tf.compat.v1.logging.ERROR)"
   ],
   "metadata": {
    "collapsed": false,
    "ExecuteTime": {
     "end_time": "2024-03-17T13:51:36.231569Z",
     "start_time": "2024-03-17T13:51:36.223569Z"
    }
   },
   "id": "3619e841a9033f52",
   "execution_count": 291
  },
  {
   "cell_type": "markdown",
   "source": [
    "## Veri Setinin Yüklenmesi"
   ],
   "metadata": {
    "collapsed": false
   },
   "id": "8088508ebda28ec5"
  },
  {
   "cell_type": "code",
   "outputs": [],
   "source": [
    "df = pd.read_excel(\".archinternational-airline-passengers.xlsx\")"
   ],
   "metadata": {
    "collapsed": false,
    "ExecuteTime": {
     "end_time": "2024-03-17T13:51:36.634517Z",
     "start_time": "2024-03-17T13:51:36.605339Z"
    }
   },
   "id": "505c205afb85b485",
   "execution_count": 292
  },
  {
   "cell_type": "code",
   "outputs": [
    {
     "data": {
      "text/plain": "                 Month  \\\n0  1949-01-01 00:00:00   \n1  1949-02-01 00:00:00   \n2  1949-03-01 00:00:00   \n3  1949-04-01 00:00:00   \n4  1949-05-01 00:00:00   \n\n   International airline passengers: monthly totals in thousands. Jan 49 ? Dec 60  \n0                                              112.0                               \n1                                              118.0                               \n2                                              132.0                               \n3                                              129.0                               \n4                                              121.0                               ",
      "text/html": "<div>\n<style scoped>\n    .dataframe tbody tr th:only-of-type {\n        vertical-align: middle;\n    }\n\n    .dataframe tbody tr th {\n        vertical-align: top;\n    }\n\n    .dataframe thead th {\n        text-align: right;\n    }\n</style>\n<table border=\"1\" class=\"dataframe\">\n  <thead>\n    <tr style=\"text-align: right;\">\n      <th></th>\n      <th>Month</th>\n      <th>International airline passengers: monthly totals in thousands. Jan 49 ? Dec 60</th>\n    </tr>\n  </thead>\n  <tbody>\n    <tr>\n      <th>0</th>\n      <td>1949-01-01 00:00:00</td>\n      <td>112.0</td>\n    </tr>\n    <tr>\n      <th>1</th>\n      <td>1949-02-01 00:00:00</td>\n      <td>118.0</td>\n    </tr>\n    <tr>\n      <th>2</th>\n      <td>1949-03-01 00:00:00</td>\n      <td>132.0</td>\n    </tr>\n    <tr>\n      <th>3</th>\n      <td>1949-04-01 00:00:00</td>\n      <td>129.0</td>\n    </tr>\n    <tr>\n      <th>4</th>\n      <td>1949-05-01 00:00:00</td>\n      <td>121.0</td>\n    </tr>\n  </tbody>\n</table>\n</div>"
     },
     "execution_count": 293,
     "metadata": {},
     "output_type": "execute_result"
    }
   ],
   "source": [
    "df.head()"
   ],
   "metadata": {
    "collapsed": false,
    "ExecuteTime": {
     "end_time": "2024-03-17T13:51:36.680800Z",
     "start_time": "2024-03-17T13:51:36.660128Z"
    }
   },
   "id": "39d0accffe99841",
   "execution_count": 293
  },
  {
   "cell_type": "code",
   "outputs": [
    {
     "data": {
      "text/plain": "Index(['Month', 'International airline passengers: monthly totals in thousands. Jan 49 ? Dec 60'], dtype='object')"
     },
     "execution_count": 294,
     "metadata": {},
     "output_type": "execute_result"
    }
   ],
   "source": [
    "df.columns"
   ],
   "metadata": {
    "collapsed": false,
    "ExecuteTime": {
     "end_time": "2024-03-17T13:51:36.712161Z",
     "start_time": "2024-03-17T13:51:36.699388Z"
    }
   },
   "id": "ed3ed54827bac04",
   "execution_count": 294
  },
  {
   "cell_type": "code",
   "outputs": [],
   "source": [
    "df.columns = [\"Month\",\"Passengers\"]"
   ],
   "metadata": {
    "collapsed": false,
    "ExecuteTime": {
     "end_time": "2024-03-17T13:51:36.760103Z",
     "start_time": "2024-03-17T13:51:36.753963Z"
    }
   },
   "id": "5884b855dd3ace9c",
   "execution_count": 295
  },
  {
   "cell_type": "code",
   "outputs": [
    {
     "data": {
      "text/plain": "Index(['Month', 'Passengers'], dtype='object')"
     },
     "execution_count": 296,
     "metadata": {},
     "output_type": "execute_result"
    }
   ],
   "source": [
    "df.columns"
   ],
   "metadata": {
    "collapsed": false,
    "ExecuteTime": {
     "end_time": "2024-03-17T13:51:36.805740Z",
     "start_time": "2024-03-17T13:51:36.795230Z"
    }
   },
   "id": "24dd521aad631d7b",
   "execution_count": 296
  },
  {
   "cell_type": "code",
   "outputs": [
    {
     "data": {
      "text/plain": "                 Month  Passengers\n0  1949-01-01 00:00:00       112.0\n1  1949-02-01 00:00:00       118.0\n2  1949-03-01 00:00:00       132.0\n3  1949-04-01 00:00:00       129.0\n4  1949-05-01 00:00:00       121.0",
      "text/html": "<div>\n<style scoped>\n    .dataframe tbody tr th:only-of-type {\n        vertical-align: middle;\n    }\n\n    .dataframe tbody tr th {\n        vertical-align: top;\n    }\n\n    .dataframe thead th {\n        text-align: right;\n    }\n</style>\n<table border=\"1\" class=\"dataframe\">\n  <thead>\n    <tr style=\"text-align: right;\">\n      <th></th>\n      <th>Month</th>\n      <th>Passengers</th>\n    </tr>\n  </thead>\n  <tbody>\n    <tr>\n      <th>0</th>\n      <td>1949-01-01 00:00:00</td>\n      <td>112.0</td>\n    </tr>\n    <tr>\n      <th>1</th>\n      <td>1949-02-01 00:00:00</td>\n      <td>118.0</td>\n    </tr>\n    <tr>\n      <th>2</th>\n      <td>1949-03-01 00:00:00</td>\n      <td>132.0</td>\n    </tr>\n    <tr>\n      <th>3</th>\n      <td>1949-04-01 00:00:00</td>\n      <td>129.0</td>\n    </tr>\n    <tr>\n      <th>4</th>\n      <td>1949-05-01 00:00:00</td>\n      <td>121.0</td>\n    </tr>\n  </tbody>\n</table>\n</div>"
     },
     "execution_count": 297,
     "metadata": {},
     "output_type": "execute_result"
    }
   ],
   "source": [
    "df.head()"
   ],
   "metadata": {
    "collapsed": false,
    "ExecuteTime": {
     "end_time": "2024-03-17T13:51:36.915448Z",
     "start_time": "2024-03-17T13:51:36.887936Z"
    }
   },
   "id": "1e0ed74b894898d8",
   "execution_count": 297
  },
  {
   "cell_type": "code",
   "outputs": [
    {
     "data": {
      "text/plain": "                                                 Month  Passengers\n141                                1960-10-01 00:00:00       461.0\n142                                1960-11-01 00:00:00       390.0\n143                                1960-12-01 00:00:00       432.0\n144                                                NaN         NaN\n145  International airline passengers: monthly tota...         NaN",
      "text/html": "<div>\n<style scoped>\n    .dataframe tbody tr th:only-of-type {\n        vertical-align: middle;\n    }\n\n    .dataframe tbody tr th {\n        vertical-align: top;\n    }\n\n    .dataframe thead th {\n        text-align: right;\n    }\n</style>\n<table border=\"1\" class=\"dataframe\">\n  <thead>\n    <tr style=\"text-align: right;\">\n      <th></th>\n      <th>Month</th>\n      <th>Passengers</th>\n    </tr>\n  </thead>\n  <tbody>\n    <tr>\n      <th>141</th>\n      <td>1960-10-01 00:00:00</td>\n      <td>461.0</td>\n    </tr>\n    <tr>\n      <th>142</th>\n      <td>1960-11-01 00:00:00</td>\n      <td>390.0</td>\n    </tr>\n    <tr>\n      <th>143</th>\n      <td>1960-12-01 00:00:00</td>\n      <td>432.0</td>\n    </tr>\n    <tr>\n      <th>144</th>\n      <td>NaN</td>\n      <td>NaN</td>\n    </tr>\n    <tr>\n      <th>145</th>\n      <td>International airline passengers: monthly tota...</td>\n      <td>NaN</td>\n    </tr>\n  </tbody>\n</table>\n</div>"
     },
     "execution_count": 298,
     "metadata": {},
     "output_type": "execute_result"
    }
   ],
   "source": [
    "df.tail()"
   ],
   "metadata": {
    "collapsed": false,
    "ExecuteTime": {
     "end_time": "2024-03-17T13:51:36.946182Z",
     "start_time": "2024-03-17T13:51:36.935796Z"
    }
   },
   "id": "b597fa9a0450cae",
   "execution_count": 298
  },
  {
   "cell_type": "code",
   "outputs": [
    {
     "data": {
      "text/plain": "(146, 2)"
     },
     "execution_count": 299,
     "metadata": {},
     "output_type": "execute_result"
    }
   ],
   "source": [
    "df.shape"
   ],
   "metadata": {
    "collapsed": false,
    "ExecuteTime": {
     "end_time": "2024-03-17T13:51:37.053875Z",
     "start_time": "2024-03-17T13:51:37.038360Z"
    }
   },
   "id": "98c5a371203c81e1",
   "execution_count": 299
  },
  {
   "cell_type": "code",
   "outputs": [
    {
     "data": {
      "text/plain": "Month          object\nPassengers    float64\ndtype: object"
     },
     "execution_count": 300,
     "metadata": {},
     "output_type": "execute_result"
    }
   ],
   "source": [
    "df.dtypes"
   ],
   "metadata": {
    "collapsed": false,
    "ExecuteTime": {
     "end_time": "2024-03-17T13:51:37.100061Z",
     "start_time": "2024-03-17T13:51:37.090003Z"
    }
   },
   "id": "33f35439d0e6f3e8",
   "execution_count": 300
  },
  {
   "cell_type": "code",
   "outputs": [
    {
     "data": {
      "text/plain": "Month         1\nPassengers    2\ndtype: int64"
     },
     "execution_count": 301,
     "metadata": {},
     "output_type": "execute_result"
    }
   ],
   "source": [
    "df.isnull().sum()"
   ],
   "metadata": {
    "collapsed": false,
    "ExecuteTime": {
     "end_time": "2024-03-17T13:51:37.222271Z",
     "start_time": "2024-03-17T13:51:37.205129Z"
    }
   },
   "id": "f5077a13972684f2",
   "execution_count": 301
  },
  {
   "cell_type": "code",
   "outputs": [
    {
     "data": {
      "text/plain": "            count        mean         std    min    25%    50%    75%    max\nPassengers  144.0  280.298611  119.966317  104.0  180.0  265.5  360.5  622.0",
      "text/html": "<div>\n<style scoped>\n    .dataframe tbody tr th:only-of-type {\n        vertical-align: middle;\n    }\n\n    .dataframe tbody tr th {\n        vertical-align: top;\n    }\n\n    .dataframe thead th {\n        text-align: right;\n    }\n</style>\n<table border=\"1\" class=\"dataframe\">\n  <thead>\n    <tr style=\"text-align: right;\">\n      <th></th>\n      <th>count</th>\n      <th>mean</th>\n      <th>std</th>\n      <th>min</th>\n      <th>25%</th>\n      <th>50%</th>\n      <th>75%</th>\n      <th>max</th>\n    </tr>\n  </thead>\n  <tbody>\n    <tr>\n      <th>Passengers</th>\n      <td>144.0</td>\n      <td>280.298611</td>\n      <td>119.966317</td>\n      <td>104.0</td>\n      <td>180.0</td>\n      <td>265.5</td>\n      <td>360.5</td>\n      <td>622.0</td>\n    </tr>\n  </tbody>\n</table>\n</div>"
     },
     "execution_count": 302,
     "metadata": {},
     "output_type": "execute_result"
    }
   ],
   "source": [
    "df.describe().T"
   ],
   "metadata": {
    "collapsed": false,
    "ExecuteTime": {
     "end_time": "2024-03-17T13:51:37.363050Z",
     "start_time": "2024-03-17T13:51:37.338271Z"
    }
   },
   "id": "e755fadd18bb9ae1",
   "execution_count": 302
  },
  {
   "cell_type": "markdown",
   "source": [
    "## Veriyi Hazırlamak"
   ],
   "metadata": {
    "collapsed": false
   },
   "id": "8f48f2b59793d321"
  },
  {
   "cell_type": "code",
   "outputs": [],
   "source": [
    "df = df[:144]"
   ],
   "metadata": {
    "collapsed": false,
    "ExecuteTime": {
     "end_time": "2024-03-17T13:51:37.393682Z",
     "start_time": "2024-03-17T13:51:37.385570Z"
    }
   },
   "id": "57a1013d57a17966",
   "execution_count": 303
  },
  {
   "cell_type": "code",
   "outputs": [
    {
     "data": {
      "text/plain": "<bound method NDFrame.tail of                    Month  Passengers\n0    1949-01-01 00:00:00       112.0\n1    1949-02-01 00:00:00       118.0\n2    1949-03-01 00:00:00       132.0\n3    1949-04-01 00:00:00       129.0\n4    1949-05-01 00:00:00       121.0\n..                   ...         ...\n139  1960-08-01 00:00:00       606.0\n140  1960-09-01 00:00:00       508.0\n141  1960-10-01 00:00:00       461.0\n142  1960-11-01 00:00:00       390.0\n143  1960-12-01 00:00:00       432.0\n\n[144 rows x 2 columns]>"
     },
     "execution_count": 304,
     "metadata": {},
     "output_type": "execute_result"
    }
   ],
   "source": [
    "df.tail"
   ],
   "metadata": {
    "collapsed": false,
    "ExecuteTime": {
     "end_time": "2024-03-17T13:51:37.486191Z",
     "start_time": "2024-03-17T13:51:37.474679Z"
    }
   },
   "id": "c0826e885c1840a",
   "execution_count": 304
  },
  {
   "cell_type": "code",
   "outputs": [
    {
     "name": "stdout",
     "output_type": "stream",
     "text": [
      "<class 'pandas.core.frame.DataFrame'>\n",
      "RangeIndex: 144 entries, 0 to 143\n",
      "Data columns (total 2 columns):\n",
      " #   Column      Non-Null Count  Dtype  \n",
      "---  ------      --------------  -----  \n",
      " 0   Month       144 non-null    object \n",
      " 1   Passengers  144 non-null    float64\n",
      "dtypes: float64(1), object(1)\n",
      "memory usage: 2.4+ KB\n"
     ]
    }
   ],
   "source": [
    "df.info()"
   ],
   "metadata": {
    "collapsed": false,
    "ExecuteTime": {
     "end_time": "2024-03-17T13:51:37.563450Z",
     "start_time": "2024-03-17T13:51:37.552873Z"
    }
   },
   "id": "186703ae7dbb0a61",
   "execution_count": 305
  },
  {
   "cell_type": "code",
   "outputs": [],
   "source": [
    "df[\"Month\"] = pd.to_datetime(df[\"Month\"])"
   ],
   "metadata": {
    "collapsed": false,
    "ExecuteTime": {
     "end_time": "2024-03-17T13:51:37.657659Z",
     "start_time": "2024-03-17T13:51:37.638036Z"
    }
   },
   "id": "293047bfad284b50",
   "execution_count": 306
  },
  {
   "cell_type": "code",
   "outputs": [
    {
     "name": "stdout",
     "output_type": "stream",
     "text": [
      "<class 'pandas.core.frame.DataFrame'>\n",
      "RangeIndex: 144 entries, 0 to 143\n",
      "Data columns (total 2 columns):\n",
      " #   Column      Non-Null Count  Dtype         \n",
      "---  ------      --------------  -----         \n",
      " 0   Month       144 non-null    datetime64[ns]\n",
      " 1   Passengers  144 non-null    float64       \n",
      "dtypes: datetime64[ns](1), float64(1)\n",
      "memory usage: 2.4 KB\n"
     ]
    }
   ],
   "source": [
    "df.info()"
   ],
   "metadata": {
    "collapsed": false,
    "ExecuteTime": {
     "end_time": "2024-03-17T13:51:37.751062Z",
     "start_time": "2024-03-17T13:51:37.737532Z"
    }
   },
   "id": "e035ee29a13d1574",
   "execution_count": 307
  },
  {
   "cell_type": "code",
   "outputs": [
    {
     "name": "stdout",
     "output_type": "stream",
     "text": [
      "Minimum Tarih 1949-01-01 00:00:00\n",
      "Maksimum Tarih 1960-12-01 00:00:00\n"
     ]
    }
   ],
   "source": [
    "print(\"Minimum Tarih\", df[\"Month\"].min())\n",
    "print(\"Maksimum Tarih\", df[\"Month\"].max())"
   ],
   "metadata": {
    "collapsed": false,
    "ExecuteTime": {
     "end_time": "2024-03-17T13:51:37.798784Z",
     "start_time": "2024-03-17T13:51:37.784749Z"
    }
   },
   "id": "10837b670686a2c1",
   "execution_count": 308
  },
  {
   "cell_type": "code",
   "outputs": [],
   "source": [
    "df.index = df[\"Month\"]"
   ],
   "metadata": {
    "collapsed": false,
    "ExecuteTime": {
     "end_time": "2024-03-17T13:51:37.845824Z",
     "start_time": "2024-03-17T13:51:37.829304Z"
    }
   },
   "id": "d6301b81f57a67b1",
   "execution_count": 309
  },
  {
   "cell_type": "code",
   "outputs": [
    {
     "data": {
      "text/plain": "                Month  Passengers\nMonth                            \n1949-01-01 1949-01-01       112.0\n1949-02-01 1949-02-01       118.0\n1949-03-01 1949-03-01       132.0\n1949-04-01 1949-04-01       129.0\n1949-05-01 1949-05-01       121.0",
      "text/html": "<div>\n<style scoped>\n    .dataframe tbody tr th:only-of-type {\n        vertical-align: middle;\n    }\n\n    .dataframe tbody tr th {\n        vertical-align: top;\n    }\n\n    .dataframe thead th {\n        text-align: right;\n    }\n</style>\n<table border=\"1\" class=\"dataframe\">\n  <thead>\n    <tr style=\"text-align: right;\">\n      <th></th>\n      <th>Month</th>\n      <th>Passengers</th>\n    </tr>\n    <tr>\n      <th>Month</th>\n      <th></th>\n      <th></th>\n    </tr>\n  </thead>\n  <tbody>\n    <tr>\n      <th>1949-01-01</th>\n      <td>1949-01-01</td>\n      <td>112.0</td>\n    </tr>\n    <tr>\n      <th>1949-02-01</th>\n      <td>1949-02-01</td>\n      <td>118.0</td>\n    </tr>\n    <tr>\n      <th>1949-03-01</th>\n      <td>1949-03-01</td>\n      <td>132.0</td>\n    </tr>\n    <tr>\n      <th>1949-04-01</th>\n      <td>1949-04-01</td>\n      <td>129.0</td>\n    </tr>\n    <tr>\n      <th>1949-05-01</th>\n      <td>1949-05-01</td>\n      <td>121.0</td>\n    </tr>\n  </tbody>\n</table>\n</div>"
     },
     "execution_count": 310,
     "metadata": {},
     "output_type": "execute_result"
    }
   ],
   "source": [
    "df.head()"
   ],
   "metadata": {
    "collapsed": false,
    "ExecuteTime": {
     "end_time": "2024-03-17T13:51:37.892651Z",
     "start_time": "2024-03-17T13:51:37.880396Z"
    }
   },
   "id": "f44e7f746c56fd43",
   "execution_count": 310
  },
  {
   "cell_type": "code",
   "outputs": [],
   "source": [
    "df.drop(\"Month\", axis=1, inplace=True)"
   ],
   "metadata": {
    "collapsed": false,
    "ExecuteTime": {
     "end_time": "2024-03-17T13:51:37.937463Z",
     "start_time": "2024-03-17T13:51:37.924344Z"
    }
   },
   "id": "a01417e9a5f974b3",
   "execution_count": 311
  },
  {
   "cell_type": "code",
   "outputs": [
    {
     "data": {
      "text/plain": "            Passengers\nMonth                 \n1949-01-01       112.0\n1949-02-01       118.0\n1949-03-01       132.0\n1949-04-01       129.0\n1949-05-01       121.0",
      "text/html": "<div>\n<style scoped>\n    .dataframe tbody tr th:only-of-type {\n        vertical-align: middle;\n    }\n\n    .dataframe tbody tr th {\n        vertical-align: top;\n    }\n\n    .dataframe thead th {\n        text-align: right;\n    }\n</style>\n<table border=\"1\" class=\"dataframe\">\n  <thead>\n    <tr style=\"text-align: right;\">\n      <th></th>\n      <th>Passengers</th>\n    </tr>\n    <tr>\n      <th>Month</th>\n      <th></th>\n    </tr>\n  </thead>\n  <tbody>\n    <tr>\n      <th>1949-01-01</th>\n      <td>112.0</td>\n    </tr>\n    <tr>\n      <th>1949-02-01</th>\n      <td>118.0</td>\n    </tr>\n    <tr>\n      <th>1949-03-01</th>\n      <td>132.0</td>\n    </tr>\n    <tr>\n      <th>1949-04-01</th>\n      <td>129.0</td>\n    </tr>\n    <tr>\n      <th>1949-05-01</th>\n      <td>121.0</td>\n    </tr>\n  </tbody>\n</table>\n</div>"
     },
     "execution_count": 312,
     "metadata": {},
     "output_type": "execute_result"
    }
   ],
   "source": [
    "df.head()"
   ],
   "metadata": {
    "collapsed": false,
    "ExecuteTime": {
     "end_time": "2024-03-17T13:51:37.982090Z",
     "start_time": "2024-03-17T13:51:37.963422Z"
    }
   },
   "id": "429885a2a85ccf8a",
   "execution_count": 312
  },
  {
   "cell_type": "code",
   "outputs": [],
   "source": [
    "result_df = df.copy()"
   ],
   "metadata": {
    "collapsed": false,
    "ExecuteTime": {
     "end_time": "2024-03-17T13:51:38.030266Z",
     "start_time": "2024-03-17T13:51:38.017180Z"
    }
   },
   "id": "1520d1f64ce8b7b",
   "execution_count": 313
  },
  {
   "cell_type": "code",
   "outputs": [
    {
     "data": {
      "text/plain": "<Axes: title={'center': 'Monthly Passengers'}, xlabel='Month'>"
     },
     "execution_count": 314,
     "metadata": {},
     "output_type": "execute_result"
    },
    {
     "data": {
      "text/plain": "<Figure size 1400x800 with 1 Axes>",
      "image/png": "[encoded data removed]"
     },
     "metadata": {},
     "output_type": "display_data"
    }
   ],
   "source": [
    "df.plot(figsize=(14,8),title = \"Monthly Passengers\")"
   ],
   "metadata": {
    "collapsed": false,
    "ExecuteTime": {
     "end_time": "2024-03-17T13:51:38.387235Z",
     "start_time": "2024-03-17T13:51:38.164031Z"
    }
   },
   "id": "17049e65a5eadff4",
   "execution_count": 314
  },
  {
   "cell_type": "code",
   "outputs": [],
   "source": [
    "data = df[\"Passengers\"].values"
   ],
   "metadata": {
    "collapsed": false,
    "ExecuteTime": {
     "end_time": "2024-03-17T13:51:38.402693Z",
     "start_time": "2024-03-17T13:51:38.388742Z"
    }
   },
   "id": "d90b51540d691e2b",
   "execution_count": 315
  },
  {
   "cell_type": "code",
   "outputs": [
    {
     "data": {
      "text/plain": "array([112., 118., 132., 129., 121.])"
     },
     "execution_count": 316,
     "metadata": {},
     "output_type": "execute_result"
    }
   ],
   "source": [
    "data[0:5]"
   ],
   "metadata": {
    "collapsed": false,
    "ExecuteTime": {
     "end_time": "2024-03-17T13:51:38.418207Z",
     "start_time": "2024-03-17T13:51:38.404692Z"
    }
   },
   "id": "bb9aa48e8f279602",
   "execution_count": 316
  },
  {
   "cell_type": "code",
   "outputs": [
    {
     "data": {
      "text/plain": "numpy.ndarray"
     },
     "execution_count": 317,
     "metadata": {},
     "output_type": "execute_result"
    }
   ],
   "source": [
    "type(data[0:5])"
   ],
   "metadata": {
    "collapsed": false,
    "ExecuteTime": {
     "end_time": "2024-03-17T13:51:38.433792Z",
     "start_time": "2024-03-17T13:51:38.427285Z"
    }
   },
   "id": "9eb66af9eba843b1",
   "execution_count": 317
  },
  {
   "cell_type": "code",
   "outputs": [
    {
     "data": {
      "text/plain": "numpy.float64"
     },
     "execution_count": 318,
     "metadata": {},
     "output_type": "execute_result"
    }
   ],
   "source": [
    "type(data[0])"
   ],
   "metadata": {
    "collapsed": false,
    "ExecuteTime": {
     "end_time": "2024-03-17T13:51:38.480421Z",
     "start_time": "2024-03-17T13:51:38.464861Z"
    }
   },
   "id": "99c0de7ef6e99b51",
   "execution_count": 318
  },
  {
   "cell_type": "code",
   "outputs": [],
   "source": [
    "data = data.astype(\"float32\")"
   ],
   "metadata": {
    "collapsed": false,
    "ExecuteTime": {
     "end_time": "2024-03-17T13:51:38.619823Z",
     "start_time": "2024-03-17T13:51:38.610819Z"
    }
   },
   "id": "a0d5df8a17ebc3f2",
   "execution_count": 319
  },
  {
   "cell_type": "code",
   "outputs": [
    {
     "data": {
      "text/plain": "numpy.float32"
     },
     "execution_count": 320,
     "metadata": {},
     "output_type": "execute_result"
    }
   ],
   "source": [
    "type(data[0])"
   ],
   "metadata": {
    "collapsed": false,
    "ExecuteTime": {
     "end_time": "2024-03-17T13:51:38.666233Z",
     "start_time": "2024-03-17T13:51:38.652042Z"
    }
   },
   "id": "6cd4ed76eaa5ee9",
   "execution_count": 320
  },
  {
   "cell_type": "code",
   "outputs": [
    {
     "data": {
      "text/plain": "(144,)"
     },
     "execution_count": 321,
     "metadata": {},
     "output_type": "execute_result"
    }
   ],
   "source": [
    "data.shape"
   ],
   "metadata": {
    "collapsed": false,
    "ExecuteTime": {
     "end_time": "2024-03-17T13:51:38.756842Z",
     "start_time": "2024-03-17T13:51:38.742872Z"
    }
   },
   "id": "e97bc8bd00e39227",
   "execution_count": 321
  },
  {
   "cell_type": "code",
   "outputs": [],
   "source": [
    "data = data.reshape(-1,1)"
   ],
   "metadata": {
    "collapsed": false,
    "ExecuteTime": {
     "end_time": "2024-03-17T13:51:38.788378Z",
     "start_time": "2024-03-17T13:51:38.775373Z"
    }
   },
   "id": "35c789d090b1830",
   "execution_count": 322
  },
  {
   "cell_type": "code",
   "outputs": [
    {
     "data": {
      "text/plain": "(144, 1)"
     },
     "execution_count": 323,
     "metadata": {},
     "output_type": "execute_result"
    }
   ],
   "source": [
    "data.shape"
   ],
   "metadata": {
    "collapsed": false,
    "ExecuteTime": {
     "end_time": "2024-03-17T13:51:38.851148Z",
     "start_time": "2024-03-17T13:51:38.846634Z"
    }
   },
   "id": "362b4f870b3f5336",
   "execution_count": 323
  },
  {
   "cell_type": "code",
   "outputs": [],
   "source": [
    "def split_data(dataFrame, test_Size):\n",
    "    position = int(round(len(dataFrame)*(1-test_Size)))\n",
    "    train = dataFrame[:position]\n",
    "    test = dataFrame[position:]\n",
    "    return train, test,position"
   ],
   "metadata": {
    "collapsed": false,
    "ExecuteTime": {
     "end_time": "2024-03-17T13:51:38.912037Z",
     "start_time": "2024-03-17T13:51:38.903006Z"
    }
   },
   "id": "c46bed71683b72c8",
   "execution_count": 324
  },
  {
   "cell_type": "code",
   "outputs": [],
   "source": [
    "train, test,position = split_data(data,0.33)"
   ],
   "metadata": {
    "collapsed": false,
    "ExecuteTime": {
     "end_time": "2024-03-17T13:51:38.943081Z",
     "start_time": "2024-03-17T13:51:38.940081Z"
    }
   },
   "id": "3f7e41fd11c0f49a",
   "execution_count": 325
  },
  {
   "cell_type": "code",
   "outputs": [
    {
     "name": "stdout",
     "output_type": "stream",
     "text": [
      "(96, 1) (48, 1)\n"
     ]
    }
   ],
   "source": [
    "print(train.shape, test.shape)"
   ],
   "metadata": {
    "collapsed": false,
    "ExecuteTime": {
     "end_time": "2024-03-17T13:51:38.973850Z",
     "start_time": "2024-03-17T13:51:38.963835Z"
    }
   },
   "id": "b1de8ad59ae8727f",
   "execution_count": 326
  },
  {
   "cell_type": "code",
   "outputs": [],
   "source": [
    "scaler_train = MinMaxScaler(feature_range=(0,1))"
   ],
   "metadata": {
    "collapsed": false,
    "ExecuteTime": {
     "end_time": "2024-03-17T13:51:39.021021Z",
     "start_time": "2024-03-17T13:51:39.009957Z"
    }
   },
   "id": "663d664e87e9ddb9",
   "execution_count": 327
  },
  {
   "cell_type": "code",
   "outputs": [],
   "source": [
    "train = scaler_train.fit_transform(train)"
   ],
   "metadata": {
    "collapsed": false,
    "ExecuteTime": {
     "end_time": "2024-03-17T13:51:39.066478Z",
     "start_time": "2024-03-17T13:51:39.055418Z"
    }
   },
   "id": "2595b24ef06ef2f7",
   "execution_count": 328
  },
  {
   "cell_type": "code",
   "outputs": [],
   "source": [
    "scaler_test = MinMaxScaler(feature_range=(0,1))"
   ],
   "metadata": {
    "collapsed": false,
    "ExecuteTime": {
     "end_time": "2024-03-17T13:51:39.081989Z",
     "start_time": "2024-03-17T13:51:39.075480Z"
    }
   },
   "id": "c5af60533e72e303",
   "execution_count": 329
  },
  {
   "cell_type": "code",
   "outputs": [],
   "source": [
    "test = scaler_test.fit_transform(test)"
   ],
   "metadata": {
    "collapsed": false,
    "ExecuteTime": {
     "end_time": "2024-03-17T13:51:39.113294Z",
     "start_time": "2024-03-17T13:51:39.101082Z"
    }
   },
   "id": "330b002189e566b0",
   "execution_count": 330
  },
  {
   "cell_type": "code",
   "outputs": [
    {
     "data": {
      "text/plain": "array([[0.02588999],\n       [0.04530746],\n       [0.09061491],\n       [0.08090615],\n       [0.05501619]], dtype=float32)"
     },
     "execution_count": 331,
     "metadata": {},
     "output_type": "execute_result"
    }
   ],
   "source": [
    "train[0:5]"
   ],
   "metadata": {
    "collapsed": false,
    "ExecuteTime": {
     "end_time": "2024-03-17T13:51:39.160038Z",
     "start_time": "2024-03-17T13:51:39.149924Z"
    }
   },
   "id": "2842954a138b0962",
   "execution_count": 331
  },
  {
   "cell_type": "code",
   "outputs": [
    {
     "data": {
      "text/plain": "array([[0.04361373],\n       [0.        ],\n       [0.17133951],\n       [0.1464175 ],\n       [0.16822433]], dtype=float32)"
     },
     "execution_count": 332,
     "metadata": {},
     "output_type": "execute_result"
    }
   ],
   "source": [
    "test[0:5]"
   ],
   "metadata": {
    "collapsed": false,
    "ExecuteTime": {
     "end_time": "2024-03-17T13:51:39.190488Z",
     "start_time": "2024-03-17T13:51:39.179436Z"
    }
   },
   "id": "76eb688e8aaa4cda",
   "execution_count": 332
  },
  {
   "cell_type": "code",
   "outputs": [],
   "source": [
    "def create_features(data,lookback):\n",
    "    x,y = [],[]\n",
    "    for i in range(lookback,len(data)):\n",
    "        x.append(data[i-lookback:i,0])\n",
    "        y.append(data[i,0])\n",
    "    return np.array(x),np.array(y)"
   ],
   "metadata": {
    "collapsed": false,
    "ExecuteTime": {
     "end_time": "2024-03-17T13:51:39.252689Z",
     "start_time": "2024-03-17T13:51:39.237097Z"
    }
   },
   "id": "a9dd501999076b79",
   "execution_count": 333
  },
  {
   "cell_type": "code",
   "outputs": [],
   "source": [
    "lookback = 1"
   ],
   "metadata": {
    "collapsed": false,
    "ExecuteTime": {
     "end_time": "2024-03-17T13:51:39.298856Z",
     "start_time": "2024-03-17T13:51:39.285344Z"
    }
   },
   "id": "91718101ab9a6878",
   "execution_count": 334
  },
  {
   "cell_type": "code",
   "outputs": [],
   "source": [
    "# Train Veri Seti\n",
    "x_train, y_train = create_features(train,lookback)"
   ],
   "metadata": {
    "collapsed": false,
    "ExecuteTime": {
     "end_time": "2024-03-17T13:51:39.329948Z",
     "start_time": "2024-03-17T13:51:39.319942Z"
    }
   },
   "id": "93ed59a8832a2edf",
   "execution_count": 335
  },
  {
   "cell_type": "code",
   "outputs": [],
   "source": [
    "# Test Veri Seti\n",
    "x_test, y_test = create_features(test,lookback)"
   ],
   "metadata": {
    "collapsed": false,
    "ExecuteTime": {
     "end_time": "2024-03-17T13:51:39.375795Z",
     "start_time": "2024-03-17T13:51:39.368288Z"
    }
   },
   "id": "5913b78e239d2f11",
   "execution_count": 336
  },
  {
   "cell_type": "code",
   "outputs": [
    {
     "name": "stdout",
     "output_type": "stream",
     "text": [
      "(95, 1) (95,) (47, 1) (47,)\n"
     ]
    }
   ],
   "source": [
    "print(x_train.shape, y_train.shape, x_test.shape, y_test.shape)"
   ],
   "metadata": {
    "collapsed": false,
    "ExecuteTime": {
     "end_time": "2024-03-17T13:51:39.422602Z",
     "start_time": "2024-03-17T13:51:39.417390Z"
    }
   },
   "id": "a831a560f8ba75b1",
   "execution_count": 337
  },
  {
   "cell_type": "code",
   "outputs": [],
   "source": [
    "x_train = np.reshape(x_train, (x_train.shape[0],1,x_train.shape[1]))\n",
    "x_test = np.reshape(x_test, (x_test.shape[0],1,x_test.shape[1]))\n",
    "y_train = y_train.reshape(-1,1)\n",
    "y_test = y_test.reshape(-1,1)"
   ],
   "metadata": {
    "collapsed": false,
    "ExecuteTime": {
     "end_time": "2024-03-17T13:51:39.454119Z",
     "start_time": "2024-03-17T13:51:39.443601Z"
    }
   },
   "id": "ce79fedf0773da0d",
   "execution_count": 338
  },
  {
   "cell_type": "code",
   "outputs": [
    {
     "name": "stdout",
     "output_type": "stream",
     "text": [
      "(95, 1, 1) (95, 1) (47, 1, 1) (47, 1)\n"
     ]
    }
   ],
   "source": [
    "print(x_train.shape, y_train.shape, x_test.shape, y_test.shape)"
   ],
   "metadata": {
    "collapsed": false,
    "ExecuteTime": {
     "end_time": "2024-03-17T13:51:39.469221Z",
     "start_time": "2024-03-17T13:51:39.456115Z"
    }
   },
   "id": "d458833621eff374",
   "execution_count": 339
  },
  {
   "cell_type": "markdown",
   "source": [
    "## Modelleme"
   ],
   "metadata": {
    "collapsed": false
   },
   "id": "74a4de040213a083"
  },
  {
   "cell_type": "code",
   "outputs": [],
   "source": [
    "model = Sequential()\n",
    "model.add(SimpleRNN(units=50,\n",
    "                    activation=\"relu\",\n",
    "                    input_shape=(x_train.shape[1],lookback)))\n",
    "model.add(Dropout(0.2))\n",
    "model.add(Dense(1))"
   ],
   "metadata": {
    "collapsed": false,
    "ExecuteTime": {
     "end_time": "2024-03-17T13:51:39.624458Z",
     "start_time": "2024-03-17T13:51:39.502581Z"
    }
   },
   "id": "7f74355e38fc3486",
   "execution_count": 340
  },
  {
   "cell_type": "code",
   "outputs": [
    {
     "name": "stdout",
     "output_type": "stream",
     "text": [
      "Model: \"sequential_18\"\n",
      "_________________________________________________________________\n",
      " Layer (type)                Output Shape              Param #   \n",
      "=================================================================\n",
      " simple_rnn_12 (SimpleRNN)   (None, 50)                2600      \n",
      "                                                                 \n",
      " dropout_25 (Dropout)        (None, 50)                0         \n",
      "                                                                 \n",
      " dense_27 (Dense)            (None, 1)                 51        \n",
      "                                                                 \n",
      "=================================================================\n",
      "Total params: 2651 (10.36 KB)\n",
      "Trainable params: 2651 (10.36 KB)\n",
      "Non-trainable params: 0 (0.00 Byte)\n",
      "_________________________________________________________________\n"
     ]
    }
   ],
   "source": [
    "model.summary()"
   ],
   "metadata": {
    "collapsed": false,
    "ExecuteTime": {
     "end_time": "2024-03-17T13:51:39.639968Z",
     "start_time": "2024-03-17T13:51:39.627463Z"
    }
   },
   "id": "d7d70bfc807f4b01",
   "execution_count": 341
  },
  {
   "cell_type": "code",
   "outputs": [],
   "source": [
    "# Optimizasyon ve Değerlendirme Metrikleri Ayarlanması\n",
    "model.compile(loss=\"mean_squared_error\",optimizer=\"adam\")"
   ],
   "metadata": {
    "collapsed": false,
    "ExecuteTime": {
     "end_time": "2024-03-17T13:51:39.654988Z",
     "start_time": "2024-03-17T13:51:39.640971Z"
    }
   },
   "id": "ab6ad1d1fd2a9caa",
   "execution_count": 342
  },
  {
   "cell_type": "code",
   "outputs": [],
   "source": [
    "callbacks = [EarlyStopping(monitor=\"val_loss\", patience=3,verbose=1 ,mode=\"min\"),\n",
    "             ModelCheckpoint(filepath=\"mymodel.h5\",monitor=\"val_loss\",mode=\"min\",save_best_only=True,save_weights_only=False,verbose=1)]"
   ],
   "metadata": {
    "collapsed": false,
    "ExecuteTime": {
     "end_time": "2024-03-17T13:51:39.670471Z",
     "start_time": "2024-03-17T13:51:39.656989Z"
    }
   },
   "id": "9aa919e416c2281f",
   "execution_count": 343
  },
  {
   "cell_type": "code",
   "outputs": [
    {
     "name": "stdout",
     "output_type": "stream",
     "text": [
      "Epoch 1/50\n",
      "62/95 [==================>...........] - ETA: 0s - loss: 0.0048  \n",
      "Epoch 1: val_loss improved from inf to 0.02586, saving model to mymodel.h5\n",
      "95/95 [==============================] - 1s 3ms/step - loss: 0.0108 - val_loss: 0.0259\n",
      "Epoch 2/50\n",
      "64/95 [===================>..........] - ETA: 0s - loss: 0.0102\n",
      "Epoch 2: val_loss improved from 0.02586 to 0.02181, saving model to mymodel.h5\n",
      "95/95 [==============================] - 0s 1ms/step - loss: 0.0116 - val_loss: 0.0218\n",
      "Epoch 3/50\n",
      "63/95 [==================>...........] - ETA: 0s - loss: 0.0068\n",
      "Epoch 3: val_loss improved from 0.02181 to 0.02076, saving model to mymodel.h5\n",
      "95/95 [==============================] - 0s 1ms/step - loss: 0.0129 - val_loss: 0.0208\n",
      "Epoch 4/50\n",
      "62/95 [==================>...........] - ETA: 0s - loss: 0.0060\n",
      "Epoch 4: val_loss did not improve from 0.02076\n",
      "95/95 [==============================] - 0s 1ms/step - loss: 0.0076 - val_loss: 0.0217\n",
      "Epoch 5/50\n",
      "61/95 [==================>...........] - ETA: 0s - loss: 0.0048\n",
      "Epoch 5: val_loss did not improve from 0.02076\n",
      "95/95 [==============================] - 0s 1ms/step - loss: 0.0103 - val_loss: 0.0224\n",
      "Epoch 6/50\n",
      "63/95 [==================>...........] - ETA: 0s - loss: 0.0041\n",
      "Epoch 6: val_loss did not improve from 0.02076\n",
      "95/95 [==============================] - 0s 1ms/step - loss: 0.0101 - val_loss: 0.0211\n",
      "Epoch 6: early stopping\n"
     ]
    }
   ],
   "source": [
    "history = model.fit(x=x_train,\n",
    "                    y= y_train,\n",
    "                    epochs=50,\n",
    "                    batch_size=1,\n",
    "                    validation_data=(x_test,y_test),\n",
    "                    callbacks=callbacks,\n",
    "                    shuffle=False)"
   ],
   "metadata": {
    "collapsed": false,
    "ExecuteTime": {
     "end_time": "2024-03-17T13:51:41.663456Z",
     "start_time": "2024-03-17T13:51:39.672474Z"
    }
   },
   "id": "57de9edfa81d6804",
   "execution_count": 344
  },
  {
   "cell_type": "markdown",
   "source": [
    "## Değerlendirme"
   ],
   "metadata": {
    "collapsed": false
   },
   "id": "67159d44c4331f2f"
  },
  {
   "cell_type": "code",
   "outputs": [
    {
     "name": "stdout",
     "output_type": "stream",
     "text": [
      "47/47 [==============================] - 0s 685us/step - loss: 0.0211\n",
      "\n",
      "Test loss: 2.109301%\n"
     ]
    }
   ],
   "source": [
    "loss = model.evaluate(x_test,y_test,batch_size=1)\n",
    "print(\"\\nTest loss: %1f%%\" % (100*loss))"
   ],
   "metadata": {
    "collapsed": false,
    "ExecuteTime": {
     "end_time": "2024-03-17T13:51:41.756230Z",
     "start_time": "2024-03-17T13:51:41.665459Z"
    }
   },
   "id": "f59ab36b32e04b81",
   "execution_count": 345
  },
  {
   "cell_type": "code",
   "outputs": [
    {
     "name": "stdout",
     "output_type": "stream",
     "text": [
      "3/3 [==============================] - 0s 1ms/step\n"
     ]
    }
   ],
   "source": [
    "train_predict = model.predict(x_train)"
   ],
   "metadata": {
    "collapsed": false,
    "ExecuteTime": {
     "end_time": "2024-03-17T13:51:41.944056Z",
     "start_time": "2024-03-17T13:51:41.757180Z"
    }
   },
   "id": "8ba312e37fab2d41",
   "execution_count": 346
  },
  {
   "cell_type": "code",
   "outputs": [
    {
     "name": "stdout",
     "output_type": "stream",
     "text": [
      "2/2 [==============================] - 0s 4ms/step\n"
     ]
    }
   ],
   "source": [
    "test_predict = model.predict(x_test)"
   ],
   "metadata": {
    "collapsed": false,
    "ExecuteTime": {
     "end_time": "2024-03-17T13:51:42.021169Z",
     "start_time": "2024-03-17T13:51:41.947056Z"
    }
   },
   "id": "96e8ecac0b9bc9aa",
   "execution_count": 347
  },
  {
   "cell_type": "code",
   "outputs": [],
   "source": [
    "train_predict = scaler_train.inverse_transform(train_predict)\n",
    "test_predict = scaler_test.inverse_transform(test_predict)"
   ],
   "metadata": {
    "collapsed": false,
    "ExecuteTime": {
     "end_time": "2024-03-17T13:51:42.035924Z",
     "start_time": "2024-03-17T13:51:42.023172Z"
    }
   },
   "id": "96c99b01498bbbf6",
   "execution_count": 348
  },
  {
   "cell_type": "code",
   "outputs": [],
   "source": [
    "y_train = scaler_train.inverse_transform(y_train)\n",
    "y_test = scaler_test.inverse_transform(y_test)"
   ],
   "metadata": {
    "collapsed": false,
    "ExecuteTime": {
     "end_time": "2024-03-17T13:51:42.050959Z",
     "start_time": "2024-03-17T13:51:42.037926Z"
    }
   },
   "id": "ad3765009d293000",
   "execution_count": 349
  },
  {
   "cell_type": "code",
   "outputs": [],
   "source": [
    "# Train veri setine ait RMSE değeri\n",
    "train_rmse = np.sqrt(mean_squared_error(y_train,train_predict))"
   ],
   "metadata": {
    "collapsed": false,
    "ExecuteTime": {
     "end_time": "2024-03-17T13:51:42.066300Z",
     "start_time": "2024-03-17T13:51:42.052195Z"
    }
   },
   "id": "bd6c67ff0ce4abe3",
   "execution_count": 350
  },
  {
   "cell_type": "code",
   "outputs": [],
   "source": [
    "# Test veri setine ait RMSE değeri\n",
    "test_rmse = np.sqrt(mean_squared_error(y_test,test_predict))"
   ],
   "metadata": {
    "collapsed": false,
    "ExecuteTime": {
     "end_time": "2024-03-17T13:51:42.081809Z",
     "start_time": "2024-03-17T13:51:42.067304Z"
    }
   },
   "id": "d7e87c634a93f29e",
   "execution_count": 351
  },
  {
   "cell_type": "code",
   "outputs": [
    {
     "name": "stdout",
     "output_type": "stream",
     "text": [
      "Train RMSE: 23.45724868774414\n"
     ]
    }
   ],
   "source": [
    "print(f\"Train RMSE: {train_rmse}\")"
   ],
   "metadata": {
    "collapsed": false,
    "ExecuteTime": {
     "end_time": "2024-03-17T13:51:42.096965Z",
     "start_time": "2024-03-17T13:51:42.083809Z"
    }
   },
   "id": "4093f7abd2ee73c6",
   "execution_count": 352
  },
  {
   "cell_type": "code",
   "outputs": [
    {
     "name": "stdout",
     "output_type": "stream",
     "text": [
      "Test RMSE: 46.62023162841797\n"
     ]
    }
   ],
   "source": [
    "print(f\"Test RMSE: {test_rmse}\")"
   ],
   "metadata": {
    "collapsed": false,
    "ExecuteTime": {
     "end_time": "2024-03-17T13:51:42.112474Z",
     "start_time": "2024-03-17T13:51:42.098966Z"
    }
   },
   "id": "8ba56c945a4a1045",
   "execution_count": 353
  },
  {
   "cell_type": "code",
   "outputs": [
    {
     "data": {
      "text/plain": "            count        mean         std    min    25%    50%    75%    max\nPassengers  144.0  280.298611  119.966317  104.0  180.0  265.5  360.5  622.0",
      "text/html": "<div>\n<style scoped>\n    .dataframe tbody tr th:only-of-type {\n        vertical-align: middle;\n    }\n\n    .dataframe tbody tr th {\n        vertical-align: top;\n    }\n\n    .dataframe thead th {\n        text-align: right;\n    }\n</style>\n<table border=\"1\" class=\"dataframe\">\n  <thead>\n    <tr style=\"text-align: right;\">\n      <th></th>\n      <th>count</th>\n      <th>mean</th>\n      <th>std</th>\n      <th>min</th>\n      <th>25%</th>\n      <th>50%</th>\n      <th>75%</th>\n      <th>max</th>\n    </tr>\n  </thead>\n  <tbody>\n    <tr>\n      <th>Passengers</th>\n      <td>144.0</td>\n      <td>280.298611</td>\n      <td>119.966317</td>\n      <td>104.0</td>\n      <td>180.0</td>\n      <td>265.5</td>\n      <td>360.5</td>\n      <td>622.0</td>\n    </tr>\n  </tbody>\n</table>\n</div>"
     },
     "execution_count": 354,
     "metadata": {},
     "output_type": "execute_result"
    }
   ],
   "source": [
    "df.describe().T"
   ],
   "metadata": {
    "collapsed": false,
    "ExecuteTime": {
     "end_time": "2024-03-17T13:51:42.128061Z",
     "start_time": "2024-03-17T13:51:42.114473Z"
    }
   },
   "id": "9474bf8a5cfb1f04",
   "execution_count": 354
  },
  {
   "cell_type": "code",
   "outputs": [],
   "source": [
    "train_prediction_df = result_df[lookback:position]"
   ],
   "metadata": {
    "collapsed": false,
    "ExecuteTime": {
     "end_time": "2024-03-17T13:55:12.507153Z",
     "start_time": "2024-03-17T13:55:12.493064Z"
    }
   },
   "id": "8c66db170d761a8",
   "execution_count": 358
  },
  {
   "cell_type": "code",
   "outputs": [],
   "source": [
    "train_prediction_df[\"Predicted\"] = train_predict"
   ],
   "metadata": {
    "collapsed": false,
    "ExecuteTime": {
     "end_time": "2024-03-17T13:55:22.026464Z",
     "start_time": "2024-03-17T13:55:22.020135Z"
    }
   },
   "id": "f7cfccebba732e74",
   "execution_count": 360
  },
  {
   "cell_type": "code",
   "outputs": [
    {
     "data": {
      "text/plain": "            Passengers   Predicted\nMonth                             \n1949-02-01       118.0  129.422470\n1949-03-01       132.0  133.318283\n1949-04-01       129.0  144.510620\n1949-05-01       121.0  141.953720\n1949-06-01       135.0  135.309235",
      "text/html": "<div>\n<style scoped>\n    .dataframe tbody tr th:only-of-type {\n        vertical-align: middle;\n    }\n\n    .dataframe tbody tr th {\n        vertical-align: top;\n    }\n\n    .dataframe thead th {\n        text-align: right;\n    }\n</style>\n<table border=\"1\" class=\"dataframe\">\n  <thead>\n    <tr style=\"text-align: right;\">\n      <th></th>\n      <th>Passengers</th>\n      <th>Predicted</th>\n    </tr>\n    <tr>\n      <th>Month</th>\n      <th></th>\n      <th></th>\n    </tr>\n  </thead>\n  <tbody>\n    <tr>\n      <th>1949-02-01</th>\n      <td>118.0</td>\n      <td>129.422470</td>\n    </tr>\n    <tr>\n      <th>1949-03-01</th>\n      <td>132.0</td>\n      <td>133.318283</td>\n    </tr>\n    <tr>\n      <th>1949-04-01</th>\n      <td>129.0</td>\n      <td>144.510620</td>\n    </tr>\n    <tr>\n      <th>1949-05-01</th>\n      <td>121.0</td>\n      <td>141.953720</td>\n    </tr>\n    <tr>\n      <th>1949-06-01</th>\n      <td>135.0</td>\n      <td>135.309235</td>\n    </tr>\n  </tbody>\n</table>\n</div>"
     },
     "execution_count": 361,
     "metadata": {},
     "output_type": "execute_result"
    }
   ],
   "source": [
    "train_prediction_df.head()"
   ],
   "metadata": {
    "collapsed": false,
    "ExecuteTime": {
     "end_time": "2024-03-17T13:55:30.553091Z",
     "start_time": "2024-03-17T13:55:30.542013Z"
    }
   },
   "id": "795343c7dd5c6f8c",
   "execution_count": 361
  },
  {
   "cell_type": "code",
   "outputs": [
    {
     "data": {
      "text/plain": "            Passengers   Predicted\nMonth                             \n1957-02-01       301.0  331.102020\n1957-03-01       356.0  323.242645\n1957-04-01       348.0  367.543701\n1957-05-01       355.0  359.902710\n1957-06-01       422.0  366.588593",
      "text/html": "<div>\n<style scoped>\n    .dataframe tbody tr th:only-of-type {\n        vertical-align: middle;\n    }\n\n    .dataframe tbody tr th {\n        vertical-align: top;\n    }\n\n    .dataframe thead th {\n        text-align: right;\n    }\n</style>\n<table border=\"1\" class=\"dataframe\">\n  <thead>\n    <tr style=\"text-align: right;\">\n      <th></th>\n      <th>Passengers</th>\n      <th>Predicted</th>\n    </tr>\n    <tr>\n      <th>Month</th>\n      <th></th>\n      <th></th>\n    </tr>\n  </thead>\n  <tbody>\n    <tr>\n      <th>1957-02-01</th>\n      <td>301.0</td>\n      <td>331.102020</td>\n    </tr>\n    <tr>\n      <th>1957-03-01</th>\n      <td>356.0</td>\n      <td>323.242645</td>\n    </tr>\n    <tr>\n      <th>1957-04-01</th>\n      <td>348.0</td>\n      <td>367.543701</td>\n    </tr>\n    <tr>\n      <th>1957-05-01</th>\n      <td>355.0</td>\n      <td>359.902710</td>\n    </tr>\n    <tr>\n      <th>1957-06-01</th>\n      <td>422.0</td>\n      <td>366.588593</td>\n    </tr>\n  </tbody>\n</table>\n</div>"
     },
     "execution_count": 364,
     "metadata": {},
     "output_type": "execute_result"
    }
   ],
   "source": [
    "test_prediction_df = result_df[position+lookback:]\n",
    "test_prediction_df[\"Predicted\"] = test_predict\n",
    "test_prediction_df.head()"
   ],
   "metadata": {
    "collapsed": false,
    "ExecuteTime": {
     "end_time": "2024-03-17T13:57:01.167529Z",
     "start_time": "2024-03-17T13:57:01.143868Z"
    }
   },
   "id": "aec30726754090b1",
   "execution_count": 364
  },
  {
   "cell_type": "code",
   "outputs": [],
   "source": [],
   "metadata": {
    "collapsed": false
   },
   "id": "238c0905a85a5cbb"
  }
 ],
 "metadata": {
  "kernelspec": {
   "display_name": "Python 3",
   "language": "python",
   "name": "python3"
  },
  "language_info": {
   "codemirror_mode": {
    "name": "ipython",
    "version": 2
   },
   "file_extension": ".py",
   "mimetype": "text/x-python",
   "name": "python",
   "nbconvert_exporter": "python",
   "pygments_lexer": "ipython2",
   "version": "2.7.6"
  }
 },
 "nbformat": 4,
 "nbformat_minor": 5
}
