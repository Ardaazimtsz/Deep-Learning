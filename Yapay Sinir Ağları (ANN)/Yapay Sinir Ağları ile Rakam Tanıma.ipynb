{
 "cells": [
  {
   "cell_type": "markdown",
   "source": [
    "## Veriyi Anlamak"
   ],
   "metadata": {
    "collapsed": false
   },
   "id": "6cba1576ee8b6d24"
  },
  {
   "cell_type": "code",
   "outputs": [
    {
     "name": "stdout",
     "output_type": "stream",
     "text": [
      "Requirement already satisfied: tensorflow in c:\\users\\arda_\\anaconda3\\lib\\site-packages (2.13.0)\n",
      "Requirement already satisfied: tensorflow-intel==2.13.0 in c:\\users\\arda_\\anaconda3\\lib\\site-packages (from tensorflow) (2.13.0)\n",
      "Requirement already satisfied: absl-py>=1.0.0 in c:\\users\\arda_\\anaconda3\\lib\\site-packages (from tensorflow-intel==2.13.0->tensorflow) (2.1.0)\n",
      "Requirement already satisfied: astunparse>=1.6.0 in c:\\users\\arda_\\anaconda3\\lib\\site-packages (from tensorflow-intel==2.13.0->tensorflow) (1.6.3)\n",
      "Requirement already satisfied: flatbuffers>=23.1.21 in c:\\users\\arda_\\anaconda3\\lib\\site-packages (from tensorflow-intel==2.13.0->tensorflow) (24.3.7)\n",
      "Requirement already satisfied: gast<=0.4.0,>=0.2.1 in c:\\users\\arda_\\anaconda3\\lib\\site-packages (from tensorflow-intel==2.13.0->tensorflow) (0.4.0)\n",
      "Requirement already satisfied: google-pasta>=0.1.1 in c:\\users\\arda_\\anaconda3\\lib\\site-packages (from tensorflow-intel==2.13.0->tensorflow) (0.2.0)\n",
      "Requirement already satisfied: h5py>=2.9.0 in c:\\users\\arda_\\anaconda3\\lib\\site-packages (from tensorflow-intel==2.13.0->tensorflow) (3.9.0)\n",
      "Requirement already satisfied: libclang>=13.0.0 in c:\\users\\arda_\\anaconda3\\lib\\site-packages (from tensorflow-intel==2.13.0->tensorflow) (16.0.6)\n",
      "Requirement already satisfied: numpy<=1.24.3,>=1.22 in c:\\users\\arda_\\anaconda3\\lib\\site-packages (from tensorflow-intel==2.13.0->tensorflow) (1.24.3)\n",
      "Requirement already satisfied: opt-einsum>=2.3.2 in c:\\users\\arda_\\anaconda3\\lib\\site-packages (from tensorflow-intel==2.13.0->tensorflow) (3.3.0)\n",
      "Requirement already satisfied: packaging in c:\\users\\arda_\\anaconda3\\lib\\site-packages (from tensorflow-intel==2.13.0->tensorflow) (23.1)\n",
      "Requirement already satisfied: protobuf!=4.21.0,!=4.21.1,!=4.21.2,!=4.21.3,!=4.21.4,!=4.21.5,<5.0.0dev,>=3.20.3 in c:\\users\\arda_\\anaconda3\\lib\\site-packages (from tensorflow-intel==2.13.0->tensorflow) (3.20.3)\n",
      "Requirement already satisfied: setuptools in c:\\users\\arda_\\anaconda3\\lib\\site-packages (from tensorflow-intel==2.13.0->tensorflow) (68.2.2)\n",
      "Requirement already satisfied: six>=1.12.0 in c:\\users\\arda_\\anaconda3\\lib\\site-packages (from tensorflow-intel==2.13.0->tensorflow) (1.16.0)\n",
      "Requirement already satisfied: termcolor>=1.1.0 in c:\\users\\arda_\\anaconda3\\lib\\site-packages (from tensorflow-intel==2.13.0->tensorflow) (2.4.0)\n",
      "Requirement already satisfied: typing-extensions<4.6.0,>=3.6.6 in c:\\users\\arda_\\anaconda3\\lib\\site-packages (from tensorflow-intel==2.13.0->tensorflow) (4.5.0)\n",
      "Requirement already satisfied: wrapt>=1.11.0 in c:\\users\\arda_\\anaconda3\\lib\\site-packages (from tensorflow-intel==2.13.0->tensorflow) (1.14.1)\n",
      "Requirement already satisfied: grpcio<2.0,>=1.24.3 in c:\\users\\arda_\\anaconda3\\lib\\site-packages (from tensorflow-intel==2.13.0->tensorflow) (1.62.1)\n",
      "Requirement already satisfied: tensorboard<2.14,>=2.13 in c:\\users\\arda_\\anaconda3\\lib\\site-packages (from tensorflow-intel==2.13.0->tensorflow) (2.13.0)\n",
      "Requirement already satisfied: tensorflow-estimator<2.14,>=2.13.0 in c:\\users\\arda_\\anaconda3\\lib\\site-packages (from tensorflow-intel==2.13.0->tensorflow) (2.13.0)\n",
      "Requirement already satisfied: keras<2.14,>=2.13.1 in c:\\users\\arda_\\anaconda3\\lib\\site-packages (from tensorflow-intel==2.13.0->tensorflow) (2.13.1)\n",
      "Requirement already satisfied: tensorflow-io-gcs-filesystem>=0.23.1 in c:\\users\\arda_\\anaconda3\\lib\\site-packages (from tensorflow-intel==2.13.0->tensorflow) (0.31.0)\n",
      "Requirement already satisfied: wheel<1.0,>=0.23.0 in c:\\users\\arda_\\anaconda3\\lib\\site-packages (from astunparse>=1.6.0->tensorflow-intel==2.13.0->tensorflow) (0.41.2)\n",
      "Requirement already satisfied: google-auth<3,>=1.6.3 in c:\\users\\arda_\\anaconda3\\lib\\site-packages (from tensorboard<2.14,>=2.13->tensorflow-intel==2.13.0->tensorflow) (2.28.2)\n",
      "Requirement already satisfied: google-auth-oauthlib<1.1,>=0.5 in c:\\users\\arda_\\anaconda3\\lib\\site-packages (from tensorboard<2.14,>=2.13->tensorflow-intel==2.13.0->tensorflow) (1.0.0)\n",
      "Requirement already satisfied: markdown>=2.6.8 in c:\\users\\arda_\\anaconda3\\lib\\site-packages (from tensorboard<2.14,>=2.13->tensorflow-intel==2.13.0->tensorflow) (3.4.1)\n",
      "Requirement already satisfied: requests<3,>=2.21.0 in c:\\users\\arda_\\anaconda3\\lib\\site-packages (from tensorboard<2.14,>=2.13->tensorflow-intel==2.13.0->tensorflow) (2.31.0)\n",
      "Requirement already satisfied: tensorboard-data-server<0.8.0,>=0.7.0 in c:\\users\\arda_\\anaconda3\\lib\\site-packages (from tensorboard<2.14,>=2.13->tensorflow-intel==2.13.0->tensorflow) (0.7.2)\n",
      "Requirement already satisfied: werkzeug>=1.0.1 in c:\\users\\arda_\\anaconda3\\lib\\site-packages (from tensorboard<2.14,>=2.13->tensorflow-intel==2.13.0->tensorflow) (2.2.3)\n",
      "Requirement already satisfied: cachetools<6.0,>=2.0.0 in c:\\users\\arda_\\anaconda3\\lib\\site-packages (from google-auth<3,>=1.6.3->tensorboard<2.14,>=2.13->tensorflow-intel==2.13.0->tensorflow) (4.2.2)\n",
      "Requirement already satisfied: pyasn1-modules>=0.2.1 in c:\\users\\arda_\\anaconda3\\lib\\site-packages (from google-auth<3,>=1.6.3->tensorboard<2.14,>=2.13->tensorflow-intel==2.13.0->tensorflow) (0.2.8)\n",
      "Requirement already satisfied: rsa<5,>=3.1.4 in c:\\users\\arda_\\anaconda3\\lib\\site-packages (from google-auth<3,>=1.6.3->tensorboard<2.14,>=2.13->tensorflow-intel==2.13.0->tensorflow) (4.9)\n",
      "Requirement already satisfied: requests-oauthlib>=0.7.0 in c:\\users\\arda_\\anaconda3\\lib\\site-packages (from google-auth-oauthlib<1.1,>=0.5->tensorboard<2.14,>=2.13->tensorflow-intel==2.13.0->tensorflow) (1.4.0)\n",
      "Requirement already satisfied: importlib-metadata>=4.4 in c:\\users\\arda_\\anaconda3\\lib\\site-packages (from markdown>=2.6.8->tensorboard<2.14,>=2.13->tensorflow-intel==2.13.0->tensorflow) (7.0.1)\n",
      "Requirement already satisfied: charset-normalizer<4,>=2 in c:\\users\\arda_\\anaconda3\\lib\\site-packages (from requests<3,>=2.21.0->tensorboard<2.14,>=2.13->tensorflow-intel==2.13.0->tensorflow) (2.0.4)\n",
      "Requirement already satisfied: idna<4,>=2.5 in c:\\users\\arda_\\anaconda3\\lib\\site-packages (from requests<3,>=2.21.0->tensorboard<2.14,>=2.13->tensorflow-intel==2.13.0->tensorflow) (3.4)\n",
      "Requirement already satisfied: urllib3<3,>=1.21.1 in c:\\users\\arda_\\anaconda3\\lib\\site-packages (from requests<3,>=2.21.0->tensorboard<2.14,>=2.13->tensorflow-intel==2.13.0->tensorflow) (1.26.18)\n",
      "Requirement already satisfied: certifi>=2017.4.17 in c:\\users\\arda_\\anaconda3\\lib\\site-packages (from requests<3,>=2.21.0->tensorboard<2.14,>=2.13->tensorflow-intel==2.13.0->tensorflow) (2024.2.2)\n",
      "Requirement already satisfied: MarkupSafe>=2.1.1 in c:\\users\\arda_\\anaconda3\\lib\\site-packages (from werkzeug>=1.0.1->tensorboard<2.14,>=2.13->tensorflow-intel==2.13.0->tensorflow) (2.1.3)\n",
      "Requirement already satisfied: zipp>=0.5 in c:\\users\\arda_\\anaconda3\\lib\\site-packages (from importlib-metadata>=4.4->markdown>=2.6.8->tensorboard<2.14,>=2.13->tensorflow-intel==2.13.0->tensorflow) (3.17.0)\n",
      "Requirement already satisfied: pyasn1<0.5.0,>=0.4.6 in c:\\users\\arda_\\anaconda3\\lib\\site-packages (from pyasn1-modules>=0.2.1->google-auth<3,>=1.6.3->tensorboard<2.14,>=2.13->tensorflow-intel==2.13.0->tensorflow) (0.4.8)\n",
      "Requirement already satisfied: oauthlib>=3.0.0 in c:\\users\\arda_\\anaconda3\\lib\\site-packages (from requests-oauthlib>=0.7.0->google-auth-oauthlib<1.1,>=0.5->tensorboard<2.14,>=2.13->tensorflow-intel==2.13.0->tensorflow) (3.2.2)\n",
      "Note: you may need to restart the kernel to use updated packages.\n"
     ]
    }
   ],
   "source": [
    "pip install tensorflow"
   ],
   "metadata": {
    "collapsed": false,
    "ExecuteTime": {
     "end_time": "2024-03-15T18:26:43.251119Z",
     "start_time": "2024-03-15T18:26:38.526257Z"
    }
   },
   "id": "669d9c1eb15424d9",
   "execution_count": 2
  },
  {
   "cell_type": "code",
   "outputs": [],
   "source": [
    "import tensorflow as tf\n",
    "from tensorflow.keras.datasets import mnist\n",
    "from tensorflow.keras.models import load_model, Sequential\n",
    "from tensorflow.keras.layers import Dense, Flatten\n",
    "from tensorflow.keras.utils import to_categorical, plot_model\n",
    "\n",
    "import matplotlib.pyplot as plt\n",
    "import numpy as np\n",
    "\n",
    "import warnings\n",
    "from warnings import filterwarnings\n",
    "warnings.filterwarnings(\"ignore\", category=FutureWarning)\n",
    "warnings.filterwarnings(\"ignore\", category=UserWarning)\n",
    "warnings.filterwarnings(\"ignore\", category=DeprecationWarning)\n",
    "filterwarnings(\"ignore\")"
   ],
   "metadata": {
    "collapsed": false,
    "ExecuteTime": {
     "end_time": "2024-03-15T18:26:47.407507Z",
     "start_time": "2024-03-15T18:26:43.253119Z"
    }
   },
   "id": "74961cb7af73eeaa",
   "execution_count": 3
  },
  {
   "cell_type": "code",
   "outputs": [],
   "source": [
    "# Mnist veri setinin yüklenmesi\n",
    "(x_train, y_train), (x_test, y_test) = mnist.load_data()"
   ],
   "metadata": {
    "collapsed": false,
    "ExecuteTime": {
     "end_time": "2024-03-15T18:26:47.594611Z",
     "start_time": "2024-03-15T18:26:47.408508Z"
    }
   },
   "id": "7cd5182068a89e7d",
   "execution_count": 4
  },
  {
   "cell_type": "code",
   "outputs": [
    {
     "name": "stdout",
     "output_type": "stream",
     "text": [
      "Eğitim Seti Boyutu:  (60000, 28, 28) (60000,)\n"
     ]
    }
   ],
   "source": [
    "print(\"Eğitim Seti Boyutu: \",x_train.shape,y_train.shape)"
   ],
   "metadata": {
    "collapsed": false,
    "ExecuteTime": {
     "end_time": "2024-03-15T18:26:47.610612Z",
     "start_time": "2024-03-15T18:26:47.596610Z"
    }
   },
   "id": "33d37acc5ce4dc54",
   "execution_count": 5
  },
  {
   "cell_type": "code",
   "outputs": [
    {
     "name": "stdout",
     "output_type": "stream",
     "text": [
      "Test Seti Boyutu:  (10000, 28, 28) (10000,)\n"
     ]
    }
   ],
   "source": [
    "print(\"Test Seti Boyutu: \",x_test.shape,y_test.shape)"
   ],
   "metadata": {
    "collapsed": false,
    "ExecuteTime": {
     "end_time": "2024-03-15T18:26:47.626443Z",
     "start_time": "2024-03-15T18:26:47.613613Z"
    }
   },
   "id": "bc8e219e2775220",
   "execution_count": 6
  },
  {
   "cell_type": "code",
   "outputs": [],
   "source": [
    "numLable = len(np.unique(y_train))"
   ],
   "metadata": {
    "collapsed": false,
    "ExecuteTime": {
     "end_time": "2024-03-15T18:26:47.642551Z",
     "start_time": "2024-03-15T18:26:47.628439Z"
    }
   },
   "id": "e461e4a5117c8b03",
   "execution_count": 7
  },
  {
   "cell_type": "code",
   "outputs": [
    {
     "data": {
      "text/plain": "10"
     },
     "execution_count": 8,
     "metadata": {},
     "output_type": "execute_result"
    }
   ],
   "source": [
    "numLable"
   ],
   "metadata": {
    "collapsed": false,
    "ExecuteTime": {
     "end_time": "2024-03-15T18:26:47.658240Z",
     "start_time": "2024-03-15T18:26:47.644555Z"
    }
   },
   "id": "37a793bf7876c795",
   "execution_count": 8
  },
  {
   "cell_type": "code",
   "outputs": [
    {
     "data": {
      "text/plain": "<matplotlib.image.AxesImage at 0x1fcbfbf9d60>"
     },
     "execution_count": 9,
     "metadata": {},
     "output_type": "execute_result"
    },
    {
     "data": {
      "text/plain": "<Figure size 1000x1000 with 1 Axes>",
      "image/png": "[encoded data removed]"
     },
     "metadata": {},
     "output_type": "display_data"
    }
   ],
   "source": [
    "# Veri Setinden Örnekler Gösterilmesi\n",
    "plt.figure(figsize=(10,10))\n",
    "plt.imshow(x_train[2],cmap=\"gray\")"
   ],
   "metadata": {
    "collapsed": false,
    "ExecuteTime": {
     "end_time": "2024-03-15T18:26:47.941155Z",
     "start_time": "2024-03-15T18:26:47.659240Z"
    }
   },
   "id": "5abbe58e26d1274f",
   "execution_count": 9
  },
  {
   "cell_type": "code",
   "outputs": [],
   "source": [
    "# RGB (0-255)\n",
    "# r:250, g:0, b:250 mor"
   ],
   "metadata": {
    "collapsed": false,
    "ExecuteTime": {
     "end_time": "2024-03-15T18:26:47.956685Z",
     "start_time": "2024-03-15T18:26:47.942157Z"
    }
   },
   "id": "9c3b81c6e64d770d",
   "execution_count": 10
  },
  {
   "cell_type": "code",
   "outputs": [
    {
     "data": {
      "text/plain": "(28, 28)"
     },
     "execution_count": 11,
     "metadata": {},
     "output_type": "execute_result"
    }
   ],
   "source": [
    "x_train[2].shape"
   ],
   "metadata": {
    "collapsed": false,
    "ExecuteTime": {
     "end_time": "2024-03-15T18:26:47.972257Z",
     "start_time": "2024-03-15T18:26:47.959685Z"
    }
   },
   "id": "2c03265c6995a304",
   "execution_count": 11
  },
  {
   "cell_type": "code",
   "outputs": [
    {
     "data": {
      "text/plain": "0"
     },
     "execution_count": 12,
     "metadata": {},
     "output_type": "execute_result"
    }
   ],
   "source": [
    "x_train[2][10,10]"
   ],
   "metadata": {
    "collapsed": false,
    "ExecuteTime": {
     "end_time": "2024-03-15T18:26:47.987366Z",
     "start_time": "2024-03-15T18:26:47.973260Z"
    }
   },
   "id": "20571c2bc8b90f9b",
   "execution_count": 12
  },
  {
   "cell_type": "code",
   "outputs": [
    {
     "data": {
      "text/plain": "49"
     },
     "execution_count": 13,
     "metadata": {},
     "output_type": "execute_result"
    }
   ],
   "source": [
    "x_train[2][14,10]"
   ],
   "metadata": {
    "collapsed": false,
    "ExecuteTime": {
     "end_time": "2024-03-15T18:26:48.003428Z",
     "start_time": "2024-03-15T18:26:47.988368Z"
    }
   },
   "id": "3ba869fcdae5fd77",
   "execution_count": 13
  },
  {
   "cell_type": "code",
   "outputs": [
    {
     "data": {
      "text/plain": "19443"
     },
     "execution_count": 14,
     "metadata": {},
     "output_type": "execute_result"
    }
   ],
   "source": [
    "x_train[2].sum()"
   ],
   "metadata": {
    "collapsed": false,
    "ExecuteTime": {
     "end_time": "2024-03-15T18:26:48.018953Z",
     "start_time": "2024-03-15T18:26:48.004432Z"
    }
   },
   "id": "d9b1ce0deabfc7e8",
   "execution_count": 14
  },
  {
   "cell_type": "code",
   "outputs": [
    {
     "data": {
      "text/plain": "array([[241, 243, 234, 179, 241, 252,  40,   0,   0,   0,   0,   0,   0,\n          0],\n       [143,  91,  28,   5, 233, 250,   0,   0,   0,   0,   0,   0,   0,\n          0],\n       [  0,   0,   0, 102, 254, 220,   0,   0,   0,   0,   0,   0,   0,\n          0],\n       [  0,   0,   0, 169, 254, 137,   0,   0,   0,   0,   0,   0,   0,\n          0],\n       [  0,   0,   0, 169, 254,  57,   0,   0,   0,   0,   0,   0,   0,\n          0],\n       [  0,   0,   0, 169, 254,  57,   0,   0,   0,   0,   0,   0,   0,\n          0]], dtype=uint8)"
     },
     "execution_count": 15,
     "metadata": {},
     "output_type": "execute_result"
    }
   ],
   "source": [
    "x_train[2][14:20, 14:28]"
   ],
   "metadata": {
    "collapsed": false,
    "ExecuteTime": {
     "end_time": "2024-03-15T18:26:48.034517Z",
     "start_time": "2024-03-15T18:26:48.020463Z"
    }
   },
   "id": "df4dd9fb04c08fee",
   "execution_count": 15
  },
  {
   "cell_type": "code",
   "outputs": [
    {
     "data": {
      "text/plain": "50.904761904761905"
     },
     "execution_count": 16,
     "metadata": {},
     "output_type": "execute_result"
    }
   ],
   "source": [
    "x_train[2][14:20, 14:28].mean()"
   ],
   "metadata": {
    "collapsed": false,
    "ExecuteTime": {
     "end_time": "2024-03-15T18:26:48.049879Z",
     "start_time": "2024-03-15T18:26:48.035519Z"
    }
   },
   "id": "aa7c78b6041e9c8a",
   "execution_count": 16
  },
  {
   "cell_type": "markdown",
   "source": [
    "## Veriyi Hazırlamak"
   ],
   "metadata": {
    "collapsed": false
   },
   "id": "e2ffba765c43b3c3"
  },
  {
   "cell_type": "markdown",
   "source": [
    "## Encoding"
   ],
   "metadata": {
    "collapsed": false
   },
   "id": "b77f0cbe03cddc4b"
  },
  {
   "cell_type": "markdown",
   "source": [
    "Önce [0 1 2 3 4 5 6 7 8 9]\n",
    "Sonra[0 1 0 0 0 0 0 0 0 0]"
   ],
   "metadata": {
    "collapsed": false
   },
   "id": "eb887c810208f111"
  },
  {
   "cell_type": "code",
   "outputs": [
    {
     "data": {
      "text/plain": "array([5, 0, 4, 1, 9], dtype=uint8)"
     },
     "execution_count": 18,
     "metadata": {},
     "output_type": "execute_result"
    }
   ],
   "source": [
    "y_train[0:5]"
   ],
   "metadata": {
    "collapsed": false,
    "ExecuteTime": {
     "end_time": "2024-03-15T18:27:01.589987Z",
     "start_time": "2024-03-15T18:27:01.578986Z"
    }
   },
   "id": "98715b51e5e73978",
   "execution_count": 18
  },
  {
   "cell_type": "code",
   "outputs": [],
   "source": [
    "y_train = to_categorical(y_train)\n",
    "y_test = to_categorical(y_test)"
   ],
   "metadata": {
    "collapsed": false,
    "ExecuteTime": {
     "end_time": "2024-03-15T18:27:25.990281Z",
     "start_time": "2024-03-15T18:27:25.970334Z"
    }
   },
   "id": "b1ea02060356a1e3",
   "execution_count": 19
  },
  {
   "cell_type": "code",
   "outputs": [
    {
     "data": {
      "text/plain": "array([[0., 0., 0., 0., 0., 1., 0., 0., 0., 0.],\n       [1., 0., 0., 0., 0., 0., 0., 0., 0., 0.],\n       [0., 0., 0., 0., 1., 0., 0., 0., 0., 0.],\n       [0., 1., 0., 0., 0., 0., 0., 0., 0., 0.],\n       [0., 0., 0., 0., 0., 0., 0., 0., 0., 1.]], dtype=float32)"
     },
     "execution_count": 20,
     "metadata": {},
     "output_type": "execute_result"
    }
   ],
   "source": [
    "y_train[0:5]"
   ],
   "metadata": {
    "collapsed": false,
    "ExecuteTime": {
     "end_time": "2024-03-15T18:27:34.954515Z",
     "start_time": "2024-03-15T18:27:34.933940Z"
    }
   },
   "id": "c6d83409a6732dcb",
   "execution_count": 20
  },
  {
   "cell_type": "markdown",
   "source": [
    "Reshaping"
   ],
   "metadata": {
    "collapsed": false
   },
   "id": "52173b712abff8ac"
  },
  {
   "cell_type": "code",
   "outputs": [],
   "source": [
    "image_size = x_train.shape[1]"
   ],
   "metadata": {
    "collapsed": false,
    "ExecuteTime": {
     "end_time": "2024-03-15T18:29:13.554590Z",
     "start_time": "2024-03-15T18:29:13.545404Z"
    }
   },
   "id": "ee6750ef9f190634",
   "execution_count": 21
  },
  {
   "cell_type": "code",
   "outputs": [
    {
     "data": {
      "text/plain": "28"
     },
     "execution_count": 22,
     "metadata": {},
     "output_type": "execute_result"
    }
   ],
   "source": [
    "image_size"
   ],
   "metadata": {
    "collapsed": false,
    "ExecuteTime": {
     "end_time": "2024-03-15T18:29:21.168148Z",
     "start_time": "2024-03-15T18:29:21.153805Z"
    }
   },
   "id": "175b3c5319daf6fd",
   "execution_count": 22
  },
  {
   "cell_type": "code",
   "outputs": [
    {
     "name": "stdout",
     "output_type": "stream",
     "text": [
      "(60000, 28, 28)\n"
     ]
    }
   ],
   "source": [
    "print(x_train.shape)"
   ],
   "metadata": {
    "collapsed": false,
    "ExecuteTime": {
     "end_time": "2024-03-15T18:29:46.628614Z",
     "start_time": "2024-03-15T18:29:46.616424Z"
    }
   },
   "id": "ccbb513079ef8d14",
   "execution_count": 23
  },
  {
   "cell_type": "code",
   "outputs": [
    {
     "name": "stdout",
     "output_type": "stream",
     "text": [
      "(10000, 28, 28)\n"
     ]
    }
   ],
   "source": [
    "print(x_test.shape)"
   ],
   "metadata": {
    "collapsed": false,
    "ExecuteTime": {
     "end_time": "2024-03-15T18:29:59.817327Z",
     "start_time": "2024-03-15T18:29:59.807607Z"
    }
   },
   "id": "d6a92bebb42ef8a3",
   "execution_count": 24
  },
  {
   "cell_type": "code",
   "outputs": [],
   "source": [
    "x_train = x_train.reshape(x_train.shape[0],28,28,1)"
   ],
   "metadata": {
    "collapsed": false,
    "ExecuteTime": {
     "end_time": "2024-03-15T18:31:08.842159Z",
     "start_time": "2024-03-15T18:31:08.836644Z"
    }
   },
   "id": "e041b0920e9aa87a",
   "execution_count": 25
  },
  {
   "cell_type": "code",
   "outputs": [],
   "source": [
    "x_test = x_test.reshape(x_test.shape[0],28,28,1)"
   ],
   "metadata": {
    "collapsed": false,
    "ExecuteTime": {
     "end_time": "2024-03-15T18:31:29.786322Z",
     "start_time": "2024-03-15T18:31:29.769309Z"
    }
   },
   "id": "d3e840c70be4073f",
   "execution_count": 26
  },
  {
   "cell_type": "code",
   "outputs": [
    {
     "data": {
      "text/plain": "(60000, 28, 28, 1)"
     },
     "execution_count": 28,
     "metadata": {},
     "output_type": "execute_result"
    }
   ],
   "source": [
    "x_train.shape"
   ],
   "metadata": {
    "collapsed": false,
    "ExecuteTime": {
     "end_time": "2024-03-15T18:31:45.730412Z",
     "start_time": "2024-03-15T18:31:45.722719Z"
    }
   },
   "id": "66eeb00edbb743af",
   "execution_count": 28
  },
  {
   "cell_type": "code",
   "outputs": [
    {
     "data": {
      "text/plain": "(10000, 28, 28, 1)"
     },
     "execution_count": 29,
     "metadata": {},
     "output_type": "execute_result"
    }
   ],
   "source": [
    "x_test.shape"
   ],
   "metadata": {
    "collapsed": false,
    "ExecuteTime": {
     "end_time": "2024-03-15T18:31:54.812040Z",
     "start_time": "2024-03-15T18:31:54.798240Z"
    }
   },
   "id": "a2b306c4fb7e9597",
   "execution_count": 29
  },
  {
   "cell_type": "markdown",
   "source": [
    "Standardizition"
   ],
   "metadata": {
    "collapsed": false
   },
   "id": "4cc1a67c31acbae7"
  },
  {
   "cell_type": "code",
   "outputs": [],
   "source": [
    "x_train = x_train.astype('float32')/255\n",
    "x_test = x_test.astype('float32')/255"
   ],
   "metadata": {
    "collapsed": false,
    "ExecuteTime": {
     "end_time": "2024-03-15T18:34:25.160982Z",
     "start_time": "2024-03-15T18:34:24.984045Z"
    }
   },
   "id": "f3d2dc401f8abe96",
   "execution_count": 30
  },
  {
   "cell_type": "markdown",
   "source": [
    "## Modelleme"
   ],
   "metadata": {
    "collapsed": false
   },
   "id": "721b1a817503615"
  },
  {
   "cell_type": "markdown",
   "source": [
    "Sinir Ağı Mimarisini Tanımlamak"
   ],
   "metadata": {
    "collapsed": false
   },
   "id": "b1571ae6063af900"
  },
  {
   "cell_type": "code",
   "outputs": [],
   "source": [
    "model = tf.keras.models.Sequential([\n",
    "    Flatten(input_shape=(28,28,1)),\n",
    "    Dense(units=128,activation=\"relu\",name=\"layer1\"),\n",
    "    Dense(units=numLable,activation=\"softmax\",name=\"output_layer\")\n",
    "])\n",
    "model.compile(loss='categorical_crossentropy',\n",
    "              optimizer='adam',\n",
    "              metrics=[tf.keras.metrics.Precision(),tf.keras.metrics.Recall(),\"accuracy\"])"
   ],
   "metadata": {
    "collapsed": false,
    "ExecuteTime": {
     "end_time": "2024-03-15T18:47:26.390517Z",
     "start_time": "2024-03-15T18:47:26.335403Z"
    }
   },
   "id": "946c49e089ee7c31",
   "execution_count": 42
  },
  {
   "cell_type": "code",
   "outputs": [
    {
     "data": {
      "text/plain": "<keras.src.engine.sequential.Sequential at 0x1fcbf882e50>"
     },
     "execution_count": 43,
     "metadata": {},
     "output_type": "execute_result"
    }
   ],
   "source": [
    "model"
   ],
   "metadata": {
    "collapsed": false,
    "ExecuteTime": {
     "end_time": "2024-03-15T18:47:27.102353Z",
     "start_time": "2024-03-15T18:47:27.089020Z"
    }
   },
   "id": "e0133b44cad98835",
   "execution_count": 43
  },
  {
   "cell_type": "code",
   "outputs": [
    {
     "name": "stdout",
     "output_type": "stream",
     "text": [
      "Model: \"sequential_7\"\n",
      "_________________________________________________________________\n",
      " Layer (type)                Output Shape              Param #   \n",
      "=================================================================\n",
      " flatten_7 (Flatten)         (None, 784)               0         \n",
      "                                                                 \n",
      " layer1 (Dense)              (None, 128)               100480    \n",
      "                                                                 \n",
      " output_layer (Dense)        (None, 10)                1290      \n",
      "                                                                 \n",
      "=================================================================\n",
      "Total params: 101770 (397.54 KB)\n",
      "Trainable params: 101770 (397.54 KB)\n",
      "Non-trainable params: 0 (0.00 Byte)\n",
      "_________________________________________________________________\n"
     ]
    }
   ],
   "source": [
    "model.summary()"
   ],
   "metadata": {
    "collapsed": false,
    "ExecuteTime": {
     "end_time": "2024-03-15T18:47:40.341205Z",
     "start_time": "2024-03-15T18:47:40.328118Z"
    }
   },
   "id": "cafb5bb6c5bae8",
   "execution_count": 44
  },
  {
   "cell_type": "code",
   "outputs": [
    {
     "name": "stdout",
     "output_type": "stream",
     "text": [
      "Epoch 1/10\n",
      "469/469 [==============================] - 1s 3ms/step - loss: 0.0069 - precision_2: 0.9987 - recall_1: 0.9984 - accuracy: 0.9986 - val_loss: 0.0946 - val_precision_2: 0.9766 - val_recall_1: 0.9745 - val_accuracy: 0.9756\n",
      "Epoch 2/10\n",
      "469/469 [==============================] - 1s 2ms/step - loss: 0.0051 - precision_2: 0.9993 - recall_1: 0.9991 - accuracy: 0.9992 - val_loss: 0.0851 - val_precision_2: 0.9796 - val_recall_1: 0.9779 - val_accuracy: 0.9783\n",
      "Epoch 3/10\n",
      "469/469 [==============================] - 1s 2ms/step - loss: 0.0037 - precision_2: 0.9997 - recall_1: 0.9996 - accuracy: 0.9997 - val_loss: 0.0891 - val_precision_2: 0.9784 - val_recall_1: 0.9775 - val_accuracy: 0.9777\n",
      "Epoch 4/10\n",
      "469/469 [==============================] - 1s 2ms/step - loss: 0.0041 - precision_2: 0.9993 - recall_1: 0.9992 - accuracy: 0.9992 - val_loss: 0.0926 - val_precision_2: 0.9786 - val_recall_1: 0.9775 - val_accuracy: 0.9781\n",
      "Epoch 5/10\n",
      "469/469 [==============================] - 1s 2ms/step - loss: 0.0062 - precision_2: 0.9987 - recall_1: 0.9985 - accuracy: 0.9986 - val_loss: 0.0945 - val_precision_2: 0.9784 - val_recall_1: 0.9773 - val_accuracy: 0.9778\n",
      "Epoch 6/10\n",
      "469/469 [==============================] - 1s 2ms/step - loss: 0.0052 - precision_2: 0.9987 - recall_1: 0.9985 - accuracy: 0.9985 - val_loss: 0.0899 - val_precision_2: 0.9790 - val_recall_1: 0.9781 - val_accuracy: 0.9784\n",
      "Epoch 7/10\n",
      "469/469 [==============================] - 1s 2ms/step - loss: 0.0019 - precision_2: 0.9999 - recall_1: 0.9999 - accuracy: 0.9999 - val_loss: 0.0897 - val_precision_2: 0.9790 - val_recall_1: 0.9778 - val_accuracy: 0.9783\n",
      "Epoch 8/10\n",
      "469/469 [==============================] - 1s 2ms/step - loss: 0.0013 - precision_2: 0.9999 - recall_1: 0.9999 - accuracy: 0.9999 - val_loss: 0.0929 - val_precision_2: 0.9794 - val_recall_1: 0.9782 - val_accuracy: 0.9786\n",
      "Epoch 9/10\n",
      "469/469 [==============================] - 1s 3ms/step - loss: 0.0011 - precision_2: 1.0000 - recall_1: 1.0000 - accuracy: 1.0000 - val_loss: 0.0916 - val_precision_2: 0.9790 - val_recall_1: 0.9782 - val_accuracy: 0.9784\n",
      "Epoch 10/10\n",
      "469/469 [==============================] - 1s 2ms/step - loss: 8.8802e-04 - precision_2: 1.0000 - recall_1: 1.0000 - accuracy: 1.0000 - val_loss: 0.0924 - val_precision_2: 0.9798 - val_recall_1: 0.9787 - val_accuracy: 0.9789\n"
     ]
    }
   ],
   "source": [
    "fitModel = model.fit(x_train,y_train,epochs=10,batch_size=128,validation_data=(x_test,y_test))"
   ],
   "metadata": {
    "collapsed": false,
    "ExecuteTime": {
     "end_time": "2024-03-15T18:54:42.773219Z",
     "start_time": "2024-03-15T18:54:31.106204Z"
    }
   },
   "id": "1591c83d76589f80",
   "execution_count": 49
  },
  {
   "cell_type": "code",
   "outputs": [
    {
     "data": {
      "text/plain": "<keras.src.callbacks.History at 0x1fcbf9135e0>"
     },
     "execution_count": 47,
     "metadata": {},
     "output_type": "execute_result"
    }
   ],
   "source": [
    "fitModel"
   ],
   "metadata": {
    "collapsed": false,
    "ExecuteTime": {
     "end_time": "2024-03-15T18:51:42.240056Z",
     "start_time": "2024-03-15T18:51:42.232696Z"
    }
   },
   "id": "c55cd1b034aebfce",
   "execution_count": 47
  },
  {
   "cell_type": "markdown",
   "source": [
    "## Modelin Kaydedilmesi ve Tahmin İçin Kullanılmsı"
   ],
   "metadata": {
    "collapsed": false
   },
   "id": "5e5dbbee199ed616"
  },
  {
   "cell_type": "code",
   "outputs": [],
   "source": [
    "model.save('fitModel.h5')\n",
    "import random\n",
    "random = random.randint(0,x_test.shape[0])"
   ],
   "metadata": {
    "collapsed": false,
    "ExecuteTime": {
     "end_time": "2024-03-15T20:35:04.083363Z",
     "start_time": "2024-03-15T20:35:04.061556Z"
    }
   },
   "id": "27ea8a245ebacf13",
   "execution_count": 62
  },
  {
   "cell_type": "code",
   "outputs": [
    {
     "data": {
      "text/plain": "3785"
     },
     "execution_count": 63,
     "metadata": {},
     "output_type": "execute_result"
    }
   ],
   "source": [
    "random"
   ],
   "metadata": {
    "collapsed": false,
    "ExecuteTime": {
     "end_time": "2024-03-15T20:35:05.703152Z",
     "start_time": "2024-03-15T20:35:05.687152Z"
    }
   },
   "id": "d1be29507f7a8bfc",
   "execution_count": 63
  },
  {
   "cell_type": "code",
   "outputs": [],
   "source": [
    "test_image = x_test[random]"
   ],
   "metadata": {
    "collapsed": false,
    "ExecuteTime": {
     "end_time": "2024-03-15T20:35:05.876498Z",
     "start_time": "2024-03-15T20:35:05.864225Z"
    }
   },
   "id": "11ce2cb5d5c3d10d",
   "execution_count": 64
  },
  {
   "cell_type": "code",
   "outputs": [
    {
     "data": {
      "text/plain": "array([0., 0., 1., 0., 0., 0., 0., 0., 0., 0.], dtype=float32)"
     },
     "execution_count": 65,
     "metadata": {},
     "output_type": "execute_result"
    }
   ],
   "source": [
    "y_test[random]"
   ],
   "metadata": {
    "collapsed": false,
    "ExecuteTime": {
     "end_time": "2024-03-15T20:35:06.048820Z",
     "start_time": "2024-03-15T20:35:06.042283Z"
    }
   },
   "id": "f8a2fb5a15da70bb",
   "execution_count": 65
  },
  {
   "cell_type": "code",
   "outputs": [
    {
     "data": {
      "text/plain": "<Figure size 640x480 with 1 Axes>",
      "image/png": "[encoded data removed]"
     },
     "metadata": {},
     "output_type": "display_data"
    }
   ],
   "source": [
    "plt.imshow(test_image.reshape(28,28),cmap='gray');"
   ],
   "metadata": {
    "collapsed": false,
    "ExecuteTime": {
     "end_time": "2024-03-15T20:35:43.413908Z",
     "start_time": "2024-03-15T20:35:43.253073Z"
    }
   },
   "id": "d20dc9624c925754",
   "execution_count": 68
  },
  {
   "cell_type": "code",
   "outputs": [],
   "source": [
    "test_data = x_test[random].reshape(1,28,28,1)"
   ],
   "metadata": {
    "collapsed": false,
    "ExecuteTime": {
     "end_time": "2024-03-15T20:36:37.968131Z",
     "start_time": "2024-03-15T20:36:37.957480Z"
    }
   },
   "id": "2ab295cb69cc5360",
   "execution_count": 69
  },
  {
   "cell_type": "code",
   "outputs": [
    {
     "name": "stdout",
     "output_type": "stream",
     "text": [
      "1/1 [==============================] - 0s 108ms/step\n"
     ]
    }
   ],
   "source": [
    "probability = model.predict(test_data)"
   ],
   "metadata": {
    "collapsed": false,
    "ExecuteTime": {
     "end_time": "2024-03-15T20:37:00.167914Z",
     "start_time": "2024-03-15T20:36:59.958162Z"
    }
   },
   "id": "672c56c7b0e7a209",
   "execution_count": 70
  },
  {
   "cell_type": "code",
   "outputs": [
    {
     "data": {
      "text/plain": "array([[4.1653287e-08, 5.2321220e-06, 9.9937028e-01, 3.1636368e-06,\n        1.0891137e-16, 4.9986393e-13, 5.7597796e-16, 5.3719600e-04,\n        8.3985993e-05, 1.0386776e-07]], dtype=float32)"
     },
     "execution_count": 71,
     "metadata": {},
     "output_type": "execute_result"
    }
   ],
   "source": [
    "probability"
   ],
   "metadata": {
    "collapsed": false,
    "ExecuteTime": {
     "end_time": "2024-03-15T20:37:05.340583Z",
     "start_time": "2024-03-15T20:37:05.327832Z"
    }
   },
   "id": "58928f830d44b9a7",
   "execution_count": 71
  },
  {
   "cell_type": "code",
   "outputs": [],
   "source": [],
   "metadata": {
    "collapsed": false
   },
   "id": "b1841eb767ff50f2"
  }
 ],
 "metadata": {
  "kernelspec": {
   "display_name": "Python 3",
   "language": "python",
   "name": "python3"
  },
  "language_info": {
   "codemirror_mode": {
    "name": "ipython",
    "version": 2
   },
   "file_extension": ".py",
   "mimetype": "text/x-python",
   "name": "python",
   "nbconvert_exporter": "python",
   "pygments_lexer": "ipython2",
   "version": "2.7.6"
  }
 },
 "nbformat": 4,
 "nbformat_minor": 5
}
